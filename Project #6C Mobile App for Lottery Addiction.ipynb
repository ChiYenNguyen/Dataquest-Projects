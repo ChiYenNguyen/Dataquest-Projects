{
 "cells": [
  {
   "cell_type": "markdown",
   "id": "71c2ea3b",
   "metadata": {},
   "source": [
    "# Guided Project: Mobile App for Lottery Addiction"
   ]
  },
  {
   "cell_type": "markdown",
   "id": "7cba00da",
   "metadata": {},
   "source": [
    "## Introduction"
   ]
  },
  {
   "cell_type": "markdown",
   "id": "dc3fade0",
   "metadata": {},
   "source": [
    "In this project, we'll be looking at the development of a mobile app that is meant to help lottery addicts better estimate their chances of winning.\n",
    "\n",
    "Many people start playing the lottery for fun, but for some this activity turns into a habit which eventually escalates into addiction. Like other compulsive gamblers, lottery addicts soon begin spending from their savings and loans, they start to accumulate debts, and eventually engage in desperate behaviors like theft.\n",
    "\n",
    "A medical institute that aims to prevent and treat gambling addictions wants to build a dedicated mobile app to help lottery addicts better estimate their chances of winning. The institute has a team of engineers that will build the app, but they need us to create the logical core of the app and calculate probabilities.\n",
    "\n",
    "For the first version of the app, they want us to focus on the [6/49](https://en.wikipedia.org/wiki/Lotto_6/49) lottery and build functions that enable users to answer questions like:\n",
    "\n",
    "- What is the probability of winning the big prize with a single ticket?\n",
    "- What is the probability of winning the big prize if we play 40 different tickets (or any other number)?\n",
    "- What is the probability of having at least five (or four, or three, or two) winning numbers on a single ticket?\n",
    "\n",
    "The institute also wants us to consider historical data coming from the national 6/49 lottery game in Canada. [The data set](https://www.kaggle.com/datascienceai/lottery-dataset) has data for 3,665 drawings, dating from 1982 to 2018."
   ]
  },
  {
   "cell_type": "markdown",
   "id": "2347b62d",
   "metadata": {},
   "source": [
    "## Core Functions"
   ]
  },
  {
   "cell_type": "markdown",
   "id": "4c94b68b",
   "metadata": {},
   "source": [
    "As our goal is to write code that can enable users to answer probability questions about playing the lottery, throughout the project, we'll need to calculate repeatedly probabilities and combinations. As a consequence, we'll start by writing two functions that we'll use often:\n",
    "\n",
    "- A function that calculates factorials; and\n",
    "- A function that calculates combinations."
   ]
  },
  {
   "cell_type": "code",
   "execution_count": 6,
   "id": "5e6b7010",
   "metadata": {},
   "outputs": [],
   "source": [
    "# Function that calculates factorials\n",
    "def factorial(n):\n",
    "    final_product = 1\n",
    "    for i in range(n, 0, -1):\n",
    "        final_product *= i\n",
    "    return final_product"
   ]
  },
  {
   "cell_type": "code",
   "execution_count": 7,
   "id": "b7439ca7",
   "metadata": {},
   "outputs": [],
   "source": [
    "# Function that calculates combinations\n",
    "def combinations(n, k):\n",
    "    num = factorial(n)\n",
    "    den = factorial(k) * factorial(n-k)\n",
    "    return num / den"
   ]
  },
  {
   "cell_type": "markdown",
   "id": "4845f4bb",
   "metadata": {},
   "source": [
    "## One-ticket Probability"
   ]
  },
  {
   "cell_type": "markdown",
   "id": "16ec0621",
   "metadata": {},
   "source": [
    "In the 6/49 lottery, six numbers are drawn from a set of 49 numbers that range from 1 to 49. A player wins the big prize if the six numbers on their tickets match all the six numbers drawn. If a player has a ticket with the numbers {13, 22, 24, 27, 42, 44}, he only wins the big prize if the numbers drawn are {13, 22, 24, 27, 42, 44}. If only one number differs, he doesn't win.\n",
    "\n",
    "For the first version of the app, we want players to be able to calculate the probability of winning the big prize with the various numbers they play on a single ticket (for each ticket a player chooses six numbers out of 49). So, we'll start by building a function that calculates the probability of winning the big prize for any given ticket.\n",
    "\n",
    "We discussed with the engineering team of the medical institute, and they told us we need to be aware of the following details when we write the function:\n",
    "\n",
    "- Inside the app, the user inputs six different numbers from 1 to 49.\n",
    "- Under the hood, the six numbers will come as a Python list, which will serve as the single input to our function.\n",
    "- The engineering team wants the function to print the probability value in a friendly way — in a way that people without any probability training are able to understand."
   ]
  },
  {
   "cell_type": "code",
   "execution_count": 31,
   "id": "c8b75167",
   "metadata": {},
   "outputs": [],
   "source": [
    "# Write a function named one_ticket_probability()\n",
    "def one_ticket_probability(num):\n",
    "    # Calculate total number of possible outcomes\n",
    "    outcome = combinations(49, 6)\n",
    "    # Calculate probability of one ticket\n",
    "    prob_pct = 1 / outcome *100\n",
    "    print(\"The probability of winning with the number {} is {:.7f}%. In other words, you have a 1 in {:,} chance of winning.\".format(num, prob_pct, outcome))"
   ]
  },
  {
   "cell_type": "code",
   "execution_count": 32,
   "id": "d1970c1b",
   "metadata": {},
   "outputs": [
    {
     "name": "stdout",
     "output_type": "stream",
     "text": [
      "The probability of winning with the number [1, 2, 3, 4, 5, 6] is 0.0000072%. In other words, you have a 1 in 13,983,816.0 chance of winning.\n"
     ]
    }
   ],
   "source": [
    "# Test the function\n",
    "list = [1, 2, 3, 4, 5, 6]\n",
    "one_ticket_probability(list)"
   ]
  },
  {
   "cell_type": "markdown",
   "id": "587832b7",
   "metadata": {},
   "source": [
    "## Historical Data Check for Canada Lottery"
   ]
  },
  {
   "cell_type": "markdown",
   "id": "cd86edfd",
   "metadata": {},
   "source": [
    "For the first version of the app, users should also be able to compare their ticket against the historical lottery data in Canada and determine whether they would have ever won by now.\n",
    "\n",
    "Next, we'll focus on exploring the historical data coming from the Canada 6/49 lottery.\n",
    "\n",
    "The data set contains historical data for 3,665 drawings (each row shows data for a single drawing), dating from 1982 to 2018. For each drawing, we can find the six numbers drawn in the following six columns:\n",
    "\n",
    "- NUMBER DRAWN 1\n",
    "- NUMBER DRAWN 2\n",
    "- NUMBER DRAWN 3\n",
    "- NUMBER DRAWN 4\n",
    "- NUMBER DRAWN 5\n",
    "- NUMBER DRAWN 6"
   ]
  },
  {
   "cell_type": "code",
   "execution_count": 33,
   "id": "da99970f",
   "metadata": {},
   "outputs": [
    {
     "name": "stdout",
     "output_type": "stream",
     "text": [
      "<class 'pandas.core.frame.DataFrame'>\n",
      "RangeIndex: 3665 entries, 0 to 3664\n",
      "Data columns (total 11 columns):\n",
      " #   Column           Non-Null Count  Dtype \n",
      "---  ------           --------------  ----- \n",
      " 0   PRODUCT          3665 non-null   int64 \n",
      " 1   DRAW NUMBER      3665 non-null   int64 \n",
      " 2   SEQUENCE NUMBER  3665 non-null   int64 \n",
      " 3   DRAW DATE        3665 non-null   object\n",
      " 4   NUMBER DRAWN 1   3665 non-null   int64 \n",
      " 5   NUMBER DRAWN 2   3665 non-null   int64 \n",
      " 6   NUMBER DRAWN 3   3665 non-null   int64 \n",
      " 7   NUMBER DRAWN 4   3665 non-null   int64 \n",
      " 8   NUMBER DRAWN 5   3665 non-null   int64 \n",
      " 9   NUMBER DRAWN 6   3665 non-null   int64 \n",
      " 10  BONUS NUMBER     3665 non-null   int64 \n",
      "dtypes: int64(10), object(1)\n",
      "memory usage: 315.1+ KB\n"
     ]
    }
   ],
   "source": [
    "# Read in the dataset\n",
    "import pandas as pd\n",
    "drawings = pd.read_csv(\"649.csv\")\n",
    "\n",
    "drawings.info()"
   ]
  },
  {
   "cell_type": "code",
   "execution_count": 35,
   "id": "e0f5de40",
   "metadata": {},
   "outputs": [
    {
     "data": {
      "text/html": [
       "<div>\n",
       "<style scoped>\n",
       "    .dataframe tbody tr th:only-of-type {\n",
       "        vertical-align: middle;\n",
       "    }\n",
       "\n",
       "    .dataframe tbody tr th {\n",
       "        vertical-align: top;\n",
       "    }\n",
       "\n",
       "    .dataframe thead th {\n",
       "        text-align: right;\n",
       "    }\n",
       "</style>\n",
       "<table border=\"1\" class=\"dataframe\">\n",
       "  <thead>\n",
       "    <tr style=\"text-align: right;\">\n",
       "      <th></th>\n",
       "      <th>PRODUCT</th>\n",
       "      <th>DRAW NUMBER</th>\n",
       "      <th>SEQUENCE NUMBER</th>\n",
       "      <th>DRAW DATE</th>\n",
       "      <th>NUMBER DRAWN 1</th>\n",
       "      <th>NUMBER DRAWN 2</th>\n",
       "      <th>NUMBER DRAWN 3</th>\n",
       "      <th>NUMBER DRAWN 4</th>\n",
       "      <th>NUMBER DRAWN 5</th>\n",
       "      <th>NUMBER DRAWN 6</th>\n",
       "      <th>BONUS NUMBER</th>\n",
       "    </tr>\n",
       "  </thead>\n",
       "  <tbody>\n",
       "    <tr>\n",
       "      <th>0</th>\n",
       "      <td>649</td>\n",
       "      <td>1</td>\n",
       "      <td>0</td>\n",
       "      <td>6/12/1982</td>\n",
       "      <td>3</td>\n",
       "      <td>11</td>\n",
       "      <td>12</td>\n",
       "      <td>14</td>\n",
       "      <td>41</td>\n",
       "      <td>43</td>\n",
       "      <td>13</td>\n",
       "    </tr>\n",
       "    <tr>\n",
       "      <th>1</th>\n",
       "      <td>649</td>\n",
       "      <td>2</td>\n",
       "      <td>0</td>\n",
       "      <td>6/19/1982</td>\n",
       "      <td>8</td>\n",
       "      <td>33</td>\n",
       "      <td>36</td>\n",
       "      <td>37</td>\n",
       "      <td>39</td>\n",
       "      <td>41</td>\n",
       "      <td>9</td>\n",
       "    </tr>\n",
       "    <tr>\n",
       "      <th>2</th>\n",
       "      <td>649</td>\n",
       "      <td>3</td>\n",
       "      <td>0</td>\n",
       "      <td>6/26/1982</td>\n",
       "      <td>1</td>\n",
       "      <td>6</td>\n",
       "      <td>23</td>\n",
       "      <td>24</td>\n",
       "      <td>27</td>\n",
       "      <td>39</td>\n",
       "      <td>34</td>\n",
       "    </tr>\n",
       "  </tbody>\n",
       "</table>\n",
       "</div>"
      ],
      "text/plain": [
       "   PRODUCT  DRAW NUMBER  SEQUENCE NUMBER  DRAW DATE  NUMBER DRAWN 1  \\\n",
       "0      649            1                0  6/12/1982               3   \n",
       "1      649            2                0  6/19/1982               8   \n",
       "2      649            3                0  6/26/1982               1   \n",
       "\n",
       "   NUMBER DRAWN 2  NUMBER DRAWN 3  NUMBER DRAWN 4  NUMBER DRAWN 5  \\\n",
       "0              11              12              14              41   \n",
       "1              33              36              37              39   \n",
       "2               6              23              24              27   \n",
       "\n",
       "   NUMBER DRAWN 6  BONUS NUMBER  \n",
       "0              43            13  \n",
       "1              41             9  \n",
       "2              39            34  "
      ]
     },
     "execution_count": 35,
     "metadata": {},
     "output_type": "execute_result"
    }
   ],
   "source": [
    "drawings.head(3)"
   ]
  },
  {
   "cell_type": "code",
   "execution_count": 34,
   "id": "6f993a79",
   "metadata": {},
   "outputs": [
    {
     "data": {
      "text/html": [
       "<div>\n",
       "<style scoped>\n",
       "    .dataframe tbody tr th:only-of-type {\n",
       "        vertical-align: middle;\n",
       "    }\n",
       "\n",
       "    .dataframe tbody tr th {\n",
       "        vertical-align: top;\n",
       "    }\n",
       "\n",
       "    .dataframe thead th {\n",
       "        text-align: right;\n",
       "    }\n",
       "</style>\n",
       "<table border=\"1\" class=\"dataframe\">\n",
       "  <thead>\n",
       "    <tr style=\"text-align: right;\">\n",
       "      <th></th>\n",
       "      <th>PRODUCT</th>\n",
       "      <th>DRAW NUMBER</th>\n",
       "      <th>SEQUENCE NUMBER</th>\n",
       "      <th>DRAW DATE</th>\n",
       "      <th>NUMBER DRAWN 1</th>\n",
       "      <th>NUMBER DRAWN 2</th>\n",
       "      <th>NUMBER DRAWN 3</th>\n",
       "      <th>NUMBER DRAWN 4</th>\n",
       "      <th>NUMBER DRAWN 5</th>\n",
       "      <th>NUMBER DRAWN 6</th>\n",
       "      <th>BONUS NUMBER</th>\n",
       "    </tr>\n",
       "  </thead>\n",
       "  <tbody>\n",
       "    <tr>\n",
       "      <th>3662</th>\n",
       "      <td>649</td>\n",
       "      <td>3589</td>\n",
       "      <td>0</td>\n",
       "      <td>6/13/2018</td>\n",
       "      <td>6</td>\n",
       "      <td>22</td>\n",
       "      <td>24</td>\n",
       "      <td>31</td>\n",
       "      <td>32</td>\n",
       "      <td>34</td>\n",
       "      <td>16</td>\n",
       "    </tr>\n",
       "    <tr>\n",
       "      <th>3663</th>\n",
       "      <td>649</td>\n",
       "      <td>3590</td>\n",
       "      <td>0</td>\n",
       "      <td>6/16/2018</td>\n",
       "      <td>2</td>\n",
       "      <td>15</td>\n",
       "      <td>21</td>\n",
       "      <td>31</td>\n",
       "      <td>38</td>\n",
       "      <td>49</td>\n",
       "      <td>8</td>\n",
       "    </tr>\n",
       "    <tr>\n",
       "      <th>3664</th>\n",
       "      <td>649</td>\n",
       "      <td>3591</td>\n",
       "      <td>0</td>\n",
       "      <td>6/20/2018</td>\n",
       "      <td>14</td>\n",
       "      <td>24</td>\n",
       "      <td>31</td>\n",
       "      <td>35</td>\n",
       "      <td>37</td>\n",
       "      <td>48</td>\n",
       "      <td>17</td>\n",
       "    </tr>\n",
       "  </tbody>\n",
       "</table>\n",
       "</div>"
      ],
      "text/plain": [
       "      PRODUCT  DRAW NUMBER  SEQUENCE NUMBER  DRAW DATE  NUMBER DRAWN 1  \\\n",
       "3662      649         3589                0  6/13/2018               6   \n",
       "3663      649         3590                0  6/16/2018               2   \n",
       "3664      649         3591                0  6/20/2018              14   \n",
       "\n",
       "      NUMBER DRAWN 2  NUMBER DRAWN 3  NUMBER DRAWN 4  NUMBER DRAWN 5  \\\n",
       "3662              22              24              31              32   \n",
       "3663              15              21              31              38   \n",
       "3664              24              31              35              37   \n",
       "\n",
       "      NUMBER DRAWN 6  BONUS NUMBER  \n",
       "3662              34            16  \n",
       "3663              49             8  \n",
       "3664              48            17  "
      ]
     },
     "execution_count": 34,
     "metadata": {},
     "output_type": "execute_result"
    }
   ],
   "source": [
    "drawings.tail(3)"
   ]
  },
  {
   "cell_type": "markdown",
   "id": "7e820cb0",
   "metadata": {},
   "source": [
    "## Function for Historical Data Check"
   ]
  },
  {
   "cell_type": "markdown",
   "id": "2617f4ef",
   "metadata": {},
   "source": [
    "We're going to write a function that will enable users to compare their ticket against the historical lottery data in Canada and determine whether they would have ever won by now.\n",
    "\n",
    "The engineering team told us that we need to be aware of the following details:\n",
    "\n",
    "- Inside the app, the user inputs six different numbers from 1 to 49.\n",
    "Under the hood, the six numbers will come as a Python list and serve as an input to our function.\n",
    "- The engineering team wants us to write a function that prints:\n",
    "    the number of times the combination selected occurred in the Canada data set; and\n",
    "    the probability of winning the big prize in the next drawing with that combination."
   ]
  },
  {
   "cell_type": "code",
   "execution_count": 64,
   "id": "e0b716d7",
   "metadata": {},
   "outputs": [
    {
     "data": {
      "text/html": [
       "<div>\n",
       "<style scoped>\n",
       "    .dataframe tbody tr th:only-of-type {\n",
       "        vertical-align: middle;\n",
       "    }\n",
       "\n",
       "    .dataframe tbody tr th {\n",
       "        vertical-align: top;\n",
       "    }\n",
       "\n",
       "    .dataframe thead th {\n",
       "        text-align: right;\n",
       "    }\n",
       "</style>\n",
       "<table border=\"1\" class=\"dataframe\">\n",
       "  <thead>\n",
       "    <tr style=\"text-align: right;\">\n",
       "      <th></th>\n",
       "      <th>NUMBER DRAWN 1</th>\n",
       "      <th>NUMBER DRAWN 2</th>\n",
       "      <th>NUMBER DRAWN 3</th>\n",
       "      <th>NUMBER DRAWN 4</th>\n",
       "      <th>NUMBER DRAWN 5</th>\n",
       "      <th>NUMBER DRAWN 6</th>\n",
       "    </tr>\n",
       "  </thead>\n",
       "  <tbody>\n",
       "    <tr>\n",
       "      <th>0</th>\n",
       "      <td>3</td>\n",
       "      <td>11</td>\n",
       "      <td>12</td>\n",
       "      <td>14</td>\n",
       "      <td>41</td>\n",
       "      <td>43</td>\n",
       "    </tr>\n",
       "    <tr>\n",
       "      <th>1</th>\n",
       "      <td>8</td>\n",
       "      <td>33</td>\n",
       "      <td>36</td>\n",
       "      <td>37</td>\n",
       "      <td>39</td>\n",
       "      <td>41</td>\n",
       "    </tr>\n",
       "    <tr>\n",
       "      <th>2</th>\n",
       "      <td>1</td>\n",
       "      <td>6</td>\n",
       "      <td>23</td>\n",
       "      <td>24</td>\n",
       "      <td>27</td>\n",
       "      <td>39</td>\n",
       "    </tr>\n",
       "    <tr>\n",
       "      <th>3</th>\n",
       "      <td>3</td>\n",
       "      <td>9</td>\n",
       "      <td>10</td>\n",
       "      <td>13</td>\n",
       "      <td>20</td>\n",
       "      <td>43</td>\n",
       "    </tr>\n",
       "    <tr>\n",
       "      <th>4</th>\n",
       "      <td>5</td>\n",
       "      <td>14</td>\n",
       "      <td>21</td>\n",
       "      <td>31</td>\n",
       "      <td>34</td>\n",
       "      <td>47</td>\n",
       "    </tr>\n",
       "  </tbody>\n",
       "</table>\n",
       "</div>"
      ],
      "text/plain": [
       "   NUMBER DRAWN 1  NUMBER DRAWN 2  NUMBER DRAWN 3  NUMBER DRAWN 4  \\\n",
       "0               3              11              12              14   \n",
       "1               8              33              36              37   \n",
       "2               1               6              23              24   \n",
       "3               3               9              10              13   \n",
       "4               5              14              21              31   \n",
       "\n",
       "   NUMBER DRAWN 5  NUMBER DRAWN 6  \n",
       "0              41              43  \n",
       "1              39              41  \n",
       "2              27              39  \n",
       "3              20              43  \n",
       "4              34              47  "
      ]
     },
     "execution_count": 64,
     "metadata": {},
     "output_type": "execute_result"
    }
   ],
   "source": [
    "# Extract all number drawn columns\n",
    "number_drawn = drawings[[\"NUMBER DRAWN 1\", \"NUMBER DRAWN 2\", \"NUMBER DRAWN 3\", \"NUMBER DRAWN 4\", \"NUMBER DRAWN 5\", \"NUMBER DRAWN 6\"]]\n",
    "number_drawn.head()"
   ]
  },
  {
   "cell_type": "code",
   "execution_count": 66,
   "id": "2ff9c33b",
   "metadata": {},
   "outputs": [
    {
     "data": {
      "text/plain": [
       "0        {3, 41, 11, 12, 43, 14}\n",
       "1        {33, 36, 37, 39, 8, 41}\n",
       "2         {1, 6, 39, 23, 24, 27}\n",
       "3         {3, 9, 10, 43, 13, 20}\n",
       "4        {34, 5, 14, 47, 21, 31}\n",
       "                  ...           \n",
       "3660    {38, 40, 41, 10, 15, 23}\n",
       "3661    {36, 46, 47, 19, 25, 31}\n",
       "3662     {32, 34, 6, 22, 24, 31}\n",
       "3663     {2, 38, 15, 49, 21, 31}\n",
       "3664    {35, 37, 14, 48, 24, 31}\n",
       "Length: 3665, dtype: object"
      ]
     },
     "execution_count": 66,
     "metadata": {},
     "output_type": "execute_result"
    }
   ],
   "source": [
    "# Function that takes as input a row of the lottery dataframe and returns a set containing all the six winning numbers \n",
    "def extract_numbers(row):\n",
    "    return set(row)\n",
    "\n",
    "winning_numbers = number_drawn.apply(extract_numbers, axis=1)\n",
    "winning_numbers"
   ]
  },
  {
   "cell_type": "code",
   "execution_count": 74,
   "id": "5b1f4176",
   "metadata": {},
   "outputs": [],
   "source": [
    "# Function to compare the user numbers against the winning numbers\n",
    "\n",
    "def check_historical_occurence(u_num, w_num):\n",
    "    # Convert the user numbers list to a set\n",
    "    user_num = set(u_num)\n",
    "    total_times = 0\n",
    "    for i in w_num:\n",
    "        if user_num == i:\n",
    "            total_times +=1\n",
    "    outcome = combinations(49, 6)\n",
    "    pct = total_times / outcome * 100\n",
    "    \n",
    "    # Alternative code to find out total_times\n",
    "    # user_numbers_set = set(user_numbers)\n",
    "    # check_occurrence = historical_numbers == user_numbers_set\n",
    "    # n_occurrences = check_occurrence.sum()\n",
    "    \n",
    "    print(\"The number of times the {} combination occurred in the past is {}. The probability of winning the big prize in the next drawing with that combination is {:.7f}%.\".format(u_num, total_times, pct)) "
   ]
  },
  {
   "cell_type": "code",
   "execution_count": 78,
   "id": "99656c87",
   "metadata": {},
   "outputs": [
    {
     "name": "stdout",
     "output_type": "stream",
     "text": [
      "The number of times the [38, 40, 41, 10, 15, 23] combination occurred in the past is 1. The probability of winning the big prize in the next drawing with that combination is 0.0000072%.\n"
     ]
    }
   ],
   "source": [
    "user_list = [38, 40, 41, 10, 15, 23]\n",
    "\n",
    "check_historical_occurence(user_list, winning_numbers)"
   ]
  },
  {
   "cell_type": "markdown",
   "id": "6214216c",
   "metadata": {},
   "source": [
    "## Multi-ticket Probability\n"
   ]
  },
  {
   "cell_type": "markdown",
   "id": "cac03ca8",
   "metadata": {},
   "source": [
    "So far, we wrote two functions:\n",
    "\n",
    "- one_ticket_probability() — calculates the probability of winning the big prize with a single ticket\n",
    "- check_historical_occurrence() — checks whether a certain combination has occurred in the Canada lottery data set\n",
    "\n",
    "Lottery addicts usually play more than one ticket on a single drawing, thinking that this might increase their chances of winning significantly. Our purpose is to help them better estimate their chances of winning, thus, we're going to write a function that will allow the users to calculate the chances of winning for any number of different tickets.\n",
    "\n",
    "We've talked with the engineering team and they gave us the following information:\n",
    "\n",
    "- The user will input the number of different tickets they want to play (without inputting the specific combinations they intend to play).\n",
    "- Our function will see an integer between 1 and 13,983,816 (the maximum number of different tickets).\n",
    "- The function should print information about the probability of winning the big prize depending on the number of different tickets played."
   ]
  },
  {
   "cell_type": "code",
   "execution_count": 103,
   "id": "064914a2",
   "metadata": {},
   "outputs": [],
   "source": [
    "# Function telling probability of winning the big prize depending on the number of different tickets played\n",
    "\n",
    "def multi_ticket_probability(num_tickets):\n",
    "    outcome = int(combinations(49, 6))\n",
    "    sc_outcome = num_tickets\n",
    "    prob_pct = sc_outcome / outcome *100\n",
    "    \n",
    "    if sc_outcome == 1:\n",
    "        print(\"The probability of winning the big prize with 1 ticket is {:.7f}%. In other words, you have a 1 in {:,} chances of winning.\".format(prob_pct, outcome))\n",
    "    else:\n",
    "        updated_outcome = round(outcome / sc_outcome)\n",
    "        print(\"The probability of winning the big prize with {:,} ticket is {:.7f}%. In other words, you have a 1 in {:,} chance(s) of winning.\".format(num_tickets, prob_pct, updated_outcome))"
   ]
  },
  {
   "cell_type": "code",
   "execution_count": 104,
   "id": "acc24b23",
   "metadata": {},
   "outputs": [
    {
     "name": "stdout",
     "output_type": "stream",
     "text": [
      "The probability of winning the big prize with 1 ticket is 0.0000072%. In other words, you have a 1 in 13,983,816 chances of winning.\n",
      "---------------\n",
      "The probability of winning the big prize with 10 ticket is 0.0000715%. In other words, you have a 1 in 1,398,382 chance(s) of winning.\n",
      "---------------\n",
      "The probability of winning the big prize with 100 ticket is 0.0007151%. In other words, you have a 1 in 139,838 chance(s) of winning.\n",
      "---------------\n",
      "The probability of winning the big prize with 10,000 ticket is 0.0715112%. In other words, you have a 1 in 1,398 chance(s) of winning.\n",
      "---------------\n",
      "The probability of winning the big prize with 1,000,000 ticket is 7.1511238%. In other words, you have a 1 in 14 chance(s) of winning.\n",
      "---------------\n",
      "The probability of winning the big prize with 6,991,908 ticket is 50.0000000%. In other words, you have a 1 in 2 chance(s) of winning.\n",
      "---------------\n",
      "The probability of winning the big prize with 13,983,816 ticket is 100.0000000%. In other words, you have a 1 in 1 chance(s) of winning.\n",
      "---------------\n"
     ]
    }
   ],
   "source": [
    "test_input = [1, 10, 100, 10000, 1000000, 6991908, 13983816]\n",
    "for i in test_input:\n",
    "    multi_ticket_probability(i)\n",
    "    print(\"-\"*15)"
   ]
  },
  {
   "cell_type": "markdown",
   "id": "1321ebbe",
   "metadata": {},
   "source": [
    "## Less Winning Numbers — Function"
   ]
  },
  {
   "cell_type": "markdown",
   "id": "6454caac",
   "metadata": {},
   "source": [
    "So far, we've written three main functions. Next, we're going to write one more function to allow the users to calculate probabilities for two, three, four, or five winning numbers.\n",
    "\n",
    "For extra context, in most 6/49 lotteries there are smaller prizes if a player's ticket match two, three, four, or five of the six numbers drawn. As a consequence, the users might be interested in knowing the probability of having two, three, four, or five winning numbers.\n",
    "\n",
    "These are the engineering details we'll need to be aware of:\n",
    "\n",
    "- Inside the app, the user inputs:\n",
    "    six different numbers from 1 to 49; and\n",
    "    an integer between 2 and 5 that represents the number of winning numbers expected\n",
    "- Our function prints information about the probability of having the inputted number of winning numbers."
   ]
  },
  {
   "cell_type": "code",
   "execution_count": 126,
   "id": "72f8041a",
   "metadata": {},
   "outputs": [],
   "source": [
    "# Function  which takes in an integer between 2 and 5 and prints information about the chances of winning depending on the value of that integer\n",
    "# As there are 6 numbers on a ticket which wins these prizes. To\n",
    "# match k of the winning numbers, we must select k of 6 winning numbers AND we must select\n",
    "# (6 − k) of the 43 non-winning numbers\n",
    "# Total 49 numbers: 6 winning numbers & 43 non-winning numbers\n",
    "\n",
    "def probability_less_6(k):\n",
    "    # Succesful outcomes for k of 6 winning numbers\n",
    "    outcome_winning_numbers = combinations(6, k)\n",
    "    # Successful outcomes for (k - 1) of 43 non-winning numbers\n",
    "    outcome_non_winning_numbers = combinations(43, 6 - k)\n",
    "    # Total successful outcomes\n",
    "    total_successful_outcomes =  outcome_winning_numbers * outcome_non_winning_numbers\n",
    "    # Number of total outcomes for choosing 6 of 49 numbers \n",
    "    total_possible_outcome = combinations(49, 6)\n",
    "    # Probability in percentage of having exactly k winning numbers\n",
    "    prob = total_successful_outcomes / total_possible_outcome * 100\n",
    "    chances = round(total_possible_outcome / total_successful_outcomes)\n",
    "    print(\"The probability of having exactly {} winning numbers for a single lottery ticket is: {:.6}%. In other words, you have a 1 in {} chances to win.\".format(k, prob, chances))"
   ]
  },
  {
   "cell_type": "code",
   "execution_count": 128,
   "id": "f29873ee",
   "metadata": {},
   "outputs": [
    {
     "name": "stdout",
     "output_type": "stream",
     "text": [
      "The probability of having exactly 2 winning numbers for a single lottery ticket is: 13.2378%. In other words, you have a 1 in 8 chances to win.\n",
      "----------------\n",
      "The probability of having exactly 3 winning numbers for a single lottery ticket is: 1.76504%. In other words, you have a 1 in 57 chances to win.\n",
      "----------------\n",
      "The probability of having exactly 4 winning numbers for a single lottery ticket is: 0.096862%. In other words, you have a 1 in 1032 chances to win.\n",
      "----------------\n",
      "The probability of having exactly 5 winning numbers for a single lottery ticket is: 0.00184499%. In other words, you have a 1 in 54201 chances to win.\n",
      "----------------\n"
     ]
    }
   ],
   "source": [
    "test_inputs = [2, 3, 4, 5]\n",
    "for i in test_inputs:\n",
    "    probability_less_6(i)\n",
    "    print(\"-\"*16)"
   ]
  },
  {
   "cell_type": "markdown",
   "id": "911b3bcd",
   "metadata": {},
   "source": [
    "## Conclusion"
   ]
  },
  {
   "cell_type": "markdown",
   "id": "f698c024",
   "metadata": {},
   "source": [
    "In this project, we've managed to write four main functions for our app:\n",
    "\n",
    "- one_ticket_probability() — calculates the probability of winning the big prize with a single ticket\n",
    "- check_historical_occurrence() — checks whether a certain combination has occurred in the Canada lottery data set\n",
    "- multi_ticket_probability() — calculates the probability for any number of of tickets between 1 and 13,983,816\n",
    "- probability_less_6() — calculates the probability of having two, three, four or five winning numbers\n",
    "\n",
    "Possible features for a second version of the app include:\n",
    "\n",
    "- Making the outputs even easier to understand by adding fun analogies (for example, we can find probabilities for strange events and compare with the chances of winning in lottery; for instance, we can output something along the lines \"You are 100 times more likely to be the victim of a shark attack than winning the lottery\").\n",
    "- Combining the one_ticket_probability() and check_historical_occurrence() to output information on probability and historical occurrence at the same time.\n",
    "- Creating a function similar to probability_less_6() which calculates the probability of having at least two, three, four or five winning numbers. Hint: the number of successful outcomes for having at least four winning numbers is the sum of these three numbers:\n",
    "    - The number of successful outcomes for having four winning numbers exactly\n",
    "    - The number of successful outcomes for having five winning numbers exactly\n",
    "    - The number of successful outcomes for having six winning numbers exactly"
   ]
  }
 ],
 "metadata": {
  "kernelspec": {
   "display_name": "Python 3",
   "language": "python",
   "name": "python3"
  },
  "language_info": {
   "codemirror_mode": {
    "name": "ipython",
    "version": 3
   },
   "file_extension": ".py",
   "mimetype": "text/x-python",
   "name": "python",
   "nbconvert_exporter": "python",
   "pygments_lexer": "ipython3",
   "version": "3.8.8"
  }
 },
 "nbformat": 4,
 "nbformat_minor": 5
}
