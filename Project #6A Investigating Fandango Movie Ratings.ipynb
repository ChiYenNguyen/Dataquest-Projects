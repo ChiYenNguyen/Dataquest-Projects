{
 "cells": [
  {
   "cell_type": "markdown",
   "id": "5fb93b93",
   "metadata": {},
   "source": [
    "# Guided Project: Investigating Fandango Movie Ratings"
   ]
  },
  {
   "cell_type": "markdown",
   "id": "f16a74b9",
   "metadata": {},
   "source": [
    "## Introduction"
   ]
  },
  {
   "cell_type": "markdown",
   "id": "4a3a08cf",
   "metadata": {},
   "source": [
    "The goal of this project is to analyse more recent movie ratings data to determine whether there has been any change in Fandango's rating system after Walt Hickey's analysis indicating that Fandango's rating system was biased and dishonest."
   ]
  },
  {
   "cell_type": "markdown",
   "id": "e56c27d2",
   "metadata": {},
   "source": [
    "## Understanding the Data"
   ]
  },
  {
   "cell_type": "markdown",
   "id": "1fe70b38",
   "metadata": {},
   "source": [
    "One of the best ways to figure out whether there has been any change in Fandango's rating system after Hickey's analysis is to compare the system's characteristics previous and after the analysis.\n",
    "\n",
    "- Walt Hickey made the data he analyzed publicly available on GitHub. We'll use the data he collected to analyze the characteristics of Fandango's rating system previous to his analysis.\n",
    "\n",
    "- One of Dataquest's team members collected movie ratings data for movies released in 2016 and 2017. The data is publicly available on GitHub and we'll use it to analyze the rating system's characteristics after Hickey's analysis."
   ]
  },
  {
   "cell_type": "code",
   "execution_count": 25,
   "id": "68e5b4dc",
   "metadata": {},
   "outputs": [
    {
     "data": {
      "text/html": [
       "<div>\n",
       "<style scoped>\n",
       "    .dataframe tbody tr th:only-of-type {\n",
       "        vertical-align: middle;\n",
       "    }\n",
       "\n",
       "    .dataframe tbody tr th {\n",
       "        vertical-align: top;\n",
       "    }\n",
       "\n",
       "    .dataframe thead th {\n",
       "        text-align: right;\n",
       "    }\n",
       "</style>\n",
       "<table border=\"1\" class=\"dataframe\">\n",
       "  <thead>\n",
       "    <tr style=\"text-align: right;\">\n",
       "      <th></th>\n",
       "      <th>FILM</th>\n",
       "      <th>RottenTomatoes</th>\n",
       "      <th>RottenTomatoes_User</th>\n",
       "      <th>Metacritic</th>\n",
       "      <th>Metacritic_User</th>\n",
       "      <th>IMDB</th>\n",
       "      <th>Fandango_Stars</th>\n",
       "      <th>Fandango_Ratingvalue</th>\n",
       "      <th>RT_norm</th>\n",
       "      <th>RT_user_norm</th>\n",
       "      <th>...</th>\n",
       "      <th>IMDB_norm</th>\n",
       "      <th>RT_norm_round</th>\n",
       "      <th>RT_user_norm_round</th>\n",
       "      <th>Metacritic_norm_round</th>\n",
       "      <th>Metacritic_user_norm_round</th>\n",
       "      <th>IMDB_norm_round</th>\n",
       "      <th>Metacritic_user_vote_count</th>\n",
       "      <th>IMDB_user_vote_count</th>\n",
       "      <th>Fandango_votes</th>\n",
       "      <th>Fandango_Difference</th>\n",
       "    </tr>\n",
       "  </thead>\n",
       "  <tbody>\n",
       "    <tr>\n",
       "      <th>0</th>\n",
       "      <td>Avengers: Age of Ultron (2015)</td>\n",
       "      <td>74</td>\n",
       "      <td>86</td>\n",
       "      <td>66</td>\n",
       "      <td>7.1</td>\n",
       "      <td>7.8</td>\n",
       "      <td>5.0</td>\n",
       "      <td>4.5</td>\n",
       "      <td>3.70</td>\n",
       "      <td>4.3</td>\n",
       "      <td>...</td>\n",
       "      <td>3.90</td>\n",
       "      <td>3.5</td>\n",
       "      <td>4.5</td>\n",
       "      <td>3.5</td>\n",
       "      <td>3.5</td>\n",
       "      <td>4.0</td>\n",
       "      <td>1330</td>\n",
       "      <td>271107</td>\n",
       "      <td>14846</td>\n",
       "      <td>0.5</td>\n",
       "    </tr>\n",
       "    <tr>\n",
       "      <th>1</th>\n",
       "      <td>Cinderella (2015)</td>\n",
       "      <td>85</td>\n",
       "      <td>80</td>\n",
       "      <td>67</td>\n",
       "      <td>7.5</td>\n",
       "      <td>7.1</td>\n",
       "      <td>5.0</td>\n",
       "      <td>4.5</td>\n",
       "      <td>4.25</td>\n",
       "      <td>4.0</td>\n",
       "      <td>...</td>\n",
       "      <td>3.55</td>\n",
       "      <td>4.5</td>\n",
       "      <td>4.0</td>\n",
       "      <td>3.5</td>\n",
       "      <td>4.0</td>\n",
       "      <td>3.5</td>\n",
       "      <td>249</td>\n",
       "      <td>65709</td>\n",
       "      <td>12640</td>\n",
       "      <td>0.5</td>\n",
       "    </tr>\n",
       "    <tr>\n",
       "      <th>2</th>\n",
       "      <td>Ant-Man (2015)</td>\n",
       "      <td>80</td>\n",
       "      <td>90</td>\n",
       "      <td>64</td>\n",
       "      <td>8.1</td>\n",
       "      <td>7.8</td>\n",
       "      <td>5.0</td>\n",
       "      <td>4.5</td>\n",
       "      <td>4.00</td>\n",
       "      <td>4.5</td>\n",
       "      <td>...</td>\n",
       "      <td>3.90</td>\n",
       "      <td>4.0</td>\n",
       "      <td>4.5</td>\n",
       "      <td>3.0</td>\n",
       "      <td>4.0</td>\n",
       "      <td>4.0</td>\n",
       "      <td>627</td>\n",
       "      <td>103660</td>\n",
       "      <td>12055</td>\n",
       "      <td>0.5</td>\n",
       "    </tr>\n",
       "    <tr>\n",
       "      <th>3</th>\n",
       "      <td>Do You Believe? (2015)</td>\n",
       "      <td>18</td>\n",
       "      <td>84</td>\n",
       "      <td>22</td>\n",
       "      <td>4.7</td>\n",
       "      <td>5.4</td>\n",
       "      <td>5.0</td>\n",
       "      <td>4.5</td>\n",
       "      <td>0.90</td>\n",
       "      <td>4.2</td>\n",
       "      <td>...</td>\n",
       "      <td>2.70</td>\n",
       "      <td>1.0</td>\n",
       "      <td>4.0</td>\n",
       "      <td>1.0</td>\n",
       "      <td>2.5</td>\n",
       "      <td>2.5</td>\n",
       "      <td>31</td>\n",
       "      <td>3136</td>\n",
       "      <td>1793</td>\n",
       "      <td>0.5</td>\n",
       "    </tr>\n",
       "    <tr>\n",
       "      <th>4</th>\n",
       "      <td>Hot Tub Time Machine 2 (2015)</td>\n",
       "      <td>14</td>\n",
       "      <td>28</td>\n",
       "      <td>29</td>\n",
       "      <td>3.4</td>\n",
       "      <td>5.1</td>\n",
       "      <td>3.5</td>\n",
       "      <td>3.0</td>\n",
       "      <td>0.70</td>\n",
       "      <td>1.4</td>\n",
       "      <td>...</td>\n",
       "      <td>2.55</td>\n",
       "      <td>0.5</td>\n",
       "      <td>1.5</td>\n",
       "      <td>1.5</td>\n",
       "      <td>1.5</td>\n",
       "      <td>2.5</td>\n",
       "      <td>88</td>\n",
       "      <td>19560</td>\n",
       "      <td>1021</td>\n",
       "      <td>0.5</td>\n",
       "    </tr>\n",
       "  </tbody>\n",
       "</table>\n",
       "<p>5 rows × 22 columns</p>\n",
       "</div>"
      ],
      "text/plain": [
       "                             FILM  RottenTomatoes  RottenTomatoes_User  \\\n",
       "0  Avengers: Age of Ultron (2015)              74                   86   \n",
       "1               Cinderella (2015)              85                   80   \n",
       "2                  Ant-Man (2015)              80                   90   \n",
       "3          Do You Believe? (2015)              18                   84   \n",
       "4   Hot Tub Time Machine 2 (2015)              14                   28   \n",
       "\n",
       "   Metacritic  Metacritic_User  IMDB  Fandango_Stars  Fandango_Ratingvalue  \\\n",
       "0          66              7.1   7.8             5.0                   4.5   \n",
       "1          67              7.5   7.1             5.0                   4.5   \n",
       "2          64              8.1   7.8             5.0                   4.5   \n",
       "3          22              4.7   5.4             5.0                   4.5   \n",
       "4          29              3.4   5.1             3.5                   3.0   \n",
       "\n",
       "   RT_norm  RT_user_norm  ...  IMDB_norm  RT_norm_round  RT_user_norm_round  \\\n",
       "0     3.70           4.3  ...       3.90            3.5                 4.5   \n",
       "1     4.25           4.0  ...       3.55            4.5                 4.0   \n",
       "2     4.00           4.5  ...       3.90            4.0                 4.5   \n",
       "3     0.90           4.2  ...       2.70            1.0                 4.0   \n",
       "4     0.70           1.4  ...       2.55            0.5                 1.5   \n",
       "\n",
       "   Metacritic_norm_round  Metacritic_user_norm_round  IMDB_norm_round  \\\n",
       "0                    3.5                         3.5              4.0   \n",
       "1                    3.5                         4.0              3.5   \n",
       "2                    3.0                         4.0              4.0   \n",
       "3                    1.0                         2.5              2.5   \n",
       "4                    1.5                         1.5              2.5   \n",
       "\n",
       "   Metacritic_user_vote_count  IMDB_user_vote_count  Fandango_votes  \\\n",
       "0                        1330                271107           14846   \n",
       "1                         249                 65709           12640   \n",
       "2                         627                103660           12055   \n",
       "3                          31                  3136            1793   \n",
       "4                          88                 19560            1021   \n",
       "\n",
       "   Fandango_Difference  \n",
       "0                  0.5  \n",
       "1                  0.5  \n",
       "2                  0.5  \n",
       "3                  0.5  \n",
       "4                  0.5  \n",
       "\n",
       "[5 rows x 22 columns]"
      ]
     },
     "execution_count": 25,
     "metadata": {},
     "output_type": "execute_result"
    }
   ],
   "source": [
    "# Read in the dataset fandango_score_comparison.csv\n",
    "\n",
    "import pandas as pd\n",
    "fandango = pd.read_csv(\"fandango_score_comparison.csv\")\n",
    "fandango.head()"
   ]
  },
  {
   "cell_type": "code",
   "execution_count": 26,
   "id": "f9139d20",
   "metadata": {},
   "outputs": [
    {
     "name": "stdout",
     "output_type": "stream",
     "text": [
      "<class 'pandas.core.frame.DataFrame'>\n",
      "RangeIndex: 146 entries, 0 to 145\n",
      "Data columns (total 22 columns):\n",
      " #   Column                      Non-Null Count  Dtype  \n",
      "---  ------                      --------------  -----  \n",
      " 0   FILM                        146 non-null    object \n",
      " 1   RottenTomatoes              146 non-null    int64  \n",
      " 2   RottenTomatoes_User         146 non-null    int64  \n",
      " 3   Metacritic                  146 non-null    int64  \n",
      " 4   Metacritic_User             146 non-null    float64\n",
      " 5   IMDB                        146 non-null    float64\n",
      " 6   Fandango_Stars              146 non-null    float64\n",
      " 7   Fandango_Ratingvalue        146 non-null    float64\n",
      " 8   RT_norm                     146 non-null    float64\n",
      " 9   RT_user_norm                146 non-null    float64\n",
      " 10  Metacritic_norm             146 non-null    float64\n",
      " 11  Metacritic_user_nom         146 non-null    float64\n",
      " 12  IMDB_norm                   146 non-null    float64\n",
      " 13  RT_norm_round               146 non-null    float64\n",
      " 14  RT_user_norm_round          146 non-null    float64\n",
      " 15  Metacritic_norm_round       146 non-null    float64\n",
      " 16  Metacritic_user_norm_round  146 non-null    float64\n",
      " 17  IMDB_norm_round             146 non-null    float64\n",
      " 18  Metacritic_user_vote_count  146 non-null    int64  \n",
      " 19  IMDB_user_vote_count        146 non-null    int64  \n",
      " 20  Fandango_votes              146 non-null    int64  \n",
      " 21  Fandango_Difference         146 non-null    float64\n",
      "dtypes: float64(15), int64(6), object(1)\n",
      "memory usage: 25.2+ KB\n"
     ]
    }
   ],
   "source": [
    "fandango.info()"
   ]
  },
  {
   "cell_type": "code",
   "execution_count": 27,
   "id": "8130e130",
   "metadata": {},
   "outputs": [
    {
     "name": "stdout",
     "output_type": "stream",
     "text": [
      "<class 'pandas.core.frame.DataFrame'>\n",
      "RangeIndex: 214 entries, 0 to 213\n",
      "Data columns (total 15 columns):\n",
      " #   Column        Non-Null Count  Dtype  \n",
      "---  ------        --------------  -----  \n",
      " 0   movie         214 non-null    object \n",
      " 1   year          214 non-null    int64  \n",
      " 2   metascore     214 non-null    int64  \n",
      " 3   imdb          214 non-null    float64\n",
      " 4   tmeter        214 non-null    int64  \n",
      " 5   audience      214 non-null    int64  \n",
      " 6   fandango      214 non-null    float64\n",
      " 7   n_metascore   214 non-null    float64\n",
      " 8   n_imdb        214 non-null    float64\n",
      " 9   n_tmeter      214 non-null    float64\n",
      " 10  n_audience    214 non-null    float64\n",
      " 11  nr_metascore  214 non-null    float64\n",
      " 12  nr_imdb       214 non-null    float64\n",
      " 13  nr_tmeter     214 non-null    float64\n",
      " 14  nr_audience   214 non-null    float64\n",
      "dtypes: float64(10), int64(4), object(1)\n",
      "memory usage: 25.2+ KB\n"
     ]
    }
   ],
   "source": [
    "# Read in the dataset movie_ratings_16_17.csv\n",
    "\n",
    "movierating = pd.read_csv(\"movie_ratings_16_17.csv\")\n",
    "movierating.info()"
   ]
  },
  {
   "cell_type": "code",
   "execution_count": 28,
   "id": "30ddc0c4",
   "metadata": {},
   "outputs": [
    {
     "data": {
      "text/html": [
       "<div>\n",
       "<style scoped>\n",
       "    .dataframe tbody tr th:only-of-type {\n",
       "        vertical-align: middle;\n",
       "    }\n",
       "\n",
       "    .dataframe tbody tr th {\n",
       "        vertical-align: top;\n",
       "    }\n",
       "\n",
       "    .dataframe thead th {\n",
       "        text-align: right;\n",
       "    }\n",
       "</style>\n",
       "<table border=\"1\" class=\"dataframe\">\n",
       "  <thead>\n",
       "    <tr style=\"text-align: right;\">\n",
       "      <th></th>\n",
       "      <th>FILM</th>\n",
       "      <th>Fandango_Stars</th>\n",
       "      <th>Fandango_Ratingvalue</th>\n",
       "      <th>Fandango_votes</th>\n",
       "      <th>Fandango_Difference</th>\n",
       "    </tr>\n",
       "  </thead>\n",
       "  <tbody>\n",
       "    <tr>\n",
       "      <th>97</th>\n",
       "      <td>Fifty Shades of Grey (2015)</td>\n",
       "      <td>4.0</td>\n",
       "      <td>3.9</td>\n",
       "      <td>34846</td>\n",
       "      <td>0.1</td>\n",
       "    </tr>\n",
       "    <tr>\n",
       "      <th>7</th>\n",
       "      <td>Top Five (2014)</td>\n",
       "      <td>4.0</td>\n",
       "      <td>3.5</td>\n",
       "      <td>3223</td>\n",
       "      <td>0.5</td>\n",
       "    </tr>\n",
       "    <tr>\n",
       "      <th>55</th>\n",
       "      <td>Black or White (2015)</td>\n",
       "      <td>4.5</td>\n",
       "      <td>4.2</td>\n",
       "      <td>1862</td>\n",
       "      <td>0.3</td>\n",
       "    </tr>\n",
       "    <tr>\n",
       "      <th>121</th>\n",
       "      <td>The Stanford Prison Experiment (2015)</td>\n",
       "      <td>4.0</td>\n",
       "      <td>3.9</td>\n",
       "      <td>51</td>\n",
       "      <td>0.1</td>\n",
       "    </tr>\n",
       "    <tr>\n",
       "      <th>34</th>\n",
       "      <td>Aloha (2015)</td>\n",
       "      <td>3.5</td>\n",
       "      <td>3.1</td>\n",
       "      <td>2284</td>\n",
       "      <td>0.4</td>\n",
       "    </tr>\n",
       "  </tbody>\n",
       "</table>\n",
       "</div>"
      ],
      "text/plain": [
       "                                      FILM  Fandango_Stars  \\\n",
       "97             Fifty Shades of Grey (2015)             4.0   \n",
       "7                          Top Five (2014)             4.0   \n",
       "55                   Black or White (2015)             4.5   \n",
       "121  The Stanford Prison Experiment (2015)             4.0   \n",
       "34                            Aloha (2015)             3.5   \n",
       "\n",
       "     Fandango_Ratingvalue  Fandango_votes  Fandango_Difference  \n",
       "97                    3.9           34846                  0.1  \n",
       "7                     3.5            3223                  0.5  \n",
       "55                    4.2            1862                  0.3  \n",
       "121                   3.9              51                  0.1  \n",
       "34                    3.1            2284                  0.4  "
      ]
     },
     "execution_count": 28,
     "metadata": {},
     "output_type": "execute_result"
    }
   ],
   "source": [
    "# Isolate the columns that offer information about Fandango's ratings\n",
    "\n",
    "before = fandango[[\"FILM\", \"Fandango_Stars\", \"Fandango_Ratingvalue\", \"Fandango_votes\", \"Fandango_Difference\"]]\n",
    "before.sample(5)"
   ]
  },
  {
   "cell_type": "code",
   "execution_count": 29,
   "id": "5e030834",
   "metadata": {},
   "outputs": [
    {
     "data": {
      "text/html": [
       "<div>\n",
       "<style scoped>\n",
       "    .dataframe tbody tr th:only-of-type {\n",
       "        vertical-align: middle;\n",
       "    }\n",
       "\n",
       "    .dataframe tbody tr th {\n",
       "        vertical-align: top;\n",
       "    }\n",
       "\n",
       "    .dataframe thead th {\n",
       "        text-align: right;\n",
       "    }\n",
       "</style>\n",
       "<table border=\"1\" class=\"dataframe\">\n",
       "  <thead>\n",
       "    <tr style=\"text-align: right;\">\n",
       "      <th></th>\n",
       "      <th>movie</th>\n",
       "      <th>year</th>\n",
       "      <th>fandango</th>\n",
       "    </tr>\n",
       "  </thead>\n",
       "  <tbody>\n",
       "    <tr>\n",
       "      <th>129</th>\n",
       "      <td>Passengers</td>\n",
       "      <td>2016</td>\n",
       "      <td>4.0</td>\n",
       "    </tr>\n",
       "    <tr>\n",
       "      <th>19</th>\n",
       "      <td>Beauty and the Beast</td>\n",
       "      <td>2017</td>\n",
       "      <td>4.5</td>\n",
       "    </tr>\n",
       "    <tr>\n",
       "      <th>46</th>\n",
       "      <td>Elle</td>\n",
       "      <td>2016</td>\n",
       "      <td>3.5</td>\n",
       "    </tr>\n",
       "    <tr>\n",
       "      <th>91</th>\n",
       "      <td>Kong: Skull Island</td>\n",
       "      <td>2017</td>\n",
       "      <td>4.0</td>\n",
       "    </tr>\n",
       "    <tr>\n",
       "      <th>12</th>\n",
       "      <td>Arrival</td>\n",
       "      <td>2016</td>\n",
       "      <td>4.0</td>\n",
       "    </tr>\n",
       "  </tbody>\n",
       "</table>\n",
       "</div>"
      ],
      "text/plain": [
       "                    movie  year  fandango\n",
       "129            Passengers  2016       4.0\n",
       "19   Beauty and the Beast  2017       4.5\n",
       "46                   Elle  2016       3.5\n",
       "91     Kong: Skull Island  2017       4.0\n",
       "12                Arrival  2016       4.0"
      ]
     },
     "execution_count": 29,
     "metadata": {},
     "output_type": "execute_result"
    }
   ],
   "source": [
    "after = movierating[[\"movie\", \"year\", \"fandango\"]]\n",
    "after.sample(5)"
   ]
  },
  {
   "cell_type": "markdown",
   "id": "5c1619b7",
   "metadata": {},
   "source": [
    "As our goal is to determine whether there has been any change in Fandango's rating system after Hickey's analysis, our population of interest is every movie with a rating on Fandango's website before and after Hickey's analysis.\n",
    "\n",
    "By reading the README.md files of the two repositories (which can be accessed [here](https://github.com/fivethirtyeight/data/blob/master/fandango/README.md) and [here](https://github.com/mircealex/Movie_ratings_2016_17/blob/master/README.md), we reach the following conclusions;\n",
    "\n",
    "- Hickey's sample for analysis is not random as it has to have at least 30 fan reviews on Fandango, and had tickets on sale in 2015.\n",
    "- The sample for movie ratings analysis is not random as it focused on the most popular movies (with a significant number of votes) released in 2016 and 2017. \n",
    "\n",
    "Thus, we can conclude that the 2 samples are not representative of the population we need. "
   ]
  },
  {
   "cell_type": "markdown",
   "id": "5532fa91",
   "metadata": {},
   "source": [
    "## Changing the Goal of our Analysis"
   ]
  },
  {
   "cell_type": "markdown",
   "id": "13c3bdfc",
   "metadata": {},
   "source": [
    "At this point, we have at least two alternatives: either we collect new data, either we change the goal of our analysis by placing some limitations on it. Tweaking our goal seems a much faster choice compared to collecting new data. Also, it's quasi-impossible to collect a new sample previous to Hickey's analysis at this moment in time.\n",
    "Thus, we can change the goal of our analysis to find out whether there's any difference between Fandango's ratings for popular movies in 2015 and Fandango's ratings for popular movies in 2016."
   ]
  },
  {
   "cell_type": "markdown",
   "id": "9b4cdabf",
   "metadata": {},
   "source": [
    "## Isolating the Samples We Need"
   ]
  },
  {
   "cell_type": "markdown",
   "id": "3e36c9da",
   "metadata": {},
   "source": [
    "With the new goal, we now have two populations that we want to describe and compare with each other:\n",
    "\n",
    "All Fandango's ratings for popular movies released in 2015.\n",
    "All Fandango's ratings for popular movies released in 2016.\n",
    "\n",
    "The term \"popular\" is vague and we need to define it with precision before continuing. We'll use Hickey's benchmark of 30 fan ratings and consider a movie as \"popular\" only if it has 30 fan ratings or more on Fandango's website.\n",
    "\n",
    "The dataset movie_ratings doesn't provide information about the number of fan ratings, so we have to be mindful of representativity issues. A quick way to check whether this sample contains enough popular movies is to do sampling of 10 movies from it and check the number of fan ratings manually on Fandango's websites."
   ]
  },
  {
   "cell_type": "code",
   "execution_count": 52,
   "id": "9b15e1c0",
   "metadata": {},
   "outputs": [
    {
     "data": {
      "text/plain": [
       "108                     Mechanic: Resurrection\n",
       "206                                   Warcraft\n",
       "106                                  Max Steel\n",
       "107                              Me Before You\n",
       "51     Fantastic Beasts and Where to Find Them\n",
       "33                                        Cell\n",
       "59                                      Genius\n",
       "152                                      Sully\n",
       "4                      A Hologram for the King\n",
       "31                  Captain America: Civil War\n",
       "Name: movie, dtype: object"
      ]
     },
     "execution_count": 52,
     "metadata": {},
     "output_type": "execute_result"
    }
   ],
   "source": [
    "sample10 = after[\"movie\"].sample(10, random_state=1)\n",
    "sample10"
   ]
  },
  {
   "cell_type": "markdown",
   "id": "c8778d17",
   "metadata": {},
   "source": [
    "From looking at fan ratings for the above 10 movies, 90% of the movies in the sample are popular, meaning the dataset is representative and contains popular movies."
   ]
  },
  {
   "cell_type": "code",
   "execution_count": 53,
   "id": "e3f17ac0",
   "metadata": {},
   "outputs": [
    {
     "data": {
      "text/plain": [
       "2016    191\n",
       "Name: year, dtype: int64"
      ]
     },
     "execution_count": 53,
     "metadata": {},
     "output_type": "execute_result"
    }
   ],
   "source": [
    "# Isolate the movies released in 2016\n",
    "\n",
    "after_analysis = after[after[\"year\"] == 2016].copy()\n",
    "after_analysis[\"year\"].value_counts()"
   ]
  },
  {
   "cell_type": "code",
   "execution_count": 60,
   "id": "f7fc8d8b",
   "metadata": {},
   "outputs": [
    {
     "name": "stderr",
     "output_type": "stream",
     "text": [
      "<ipython-input-60-c60a133ce43a>:1: SettingWithCopyWarning: \n",
      "A value is trying to be set on a copy of a slice from a DataFrame.\n",
      "Try using .loc[row_indexer,col_indexer] = value instead\n",
      "\n",
      "See the caveats in the documentation: https://pandas.pydata.org/pandas-docs/stable/user_guide/indexing.html#returning-a-view-versus-a-copy\n",
      "  before[\"Year\"] = before[\"FILM\"].str[-5:-1]\n"
     ]
    },
    {
     "data": {
      "text/plain": [
       "2015    129\n",
       "2014     17\n",
       "Name: Year, dtype: int64"
      ]
     },
     "execution_count": 60,
     "metadata": {},
     "output_type": "execute_result"
    }
   ],
   "source": [
    "before[\"Year\"] = before[\"FILM\"].str[-5:-1]\n",
    "before[\"Year\"].value_counts()"
   ]
  },
  {
   "cell_type": "code",
   "execution_count": 57,
   "id": "02ec7071",
   "metadata": {},
   "outputs": [
    {
     "data": {
      "text/plain": [
       "Taken 3 (2015)                   1\n",
       "Phoenix (2015)                   1\n",
       "While We're Young (2015)         1\n",
       "Pixels (2015)                    1\n",
       "The Last Five Years (2015)       1\n",
       "                                ..\n",
       "Escobar: Paradise Lost (2015)    1\n",
       "Trainwreck (2015)                1\n",
       "The Gallows (2015)               1\n",
       "The Gift (2015)                  1\n",
       "Infinitely Polar Bear (2015)     1\n",
       "Name: FILM, Length: 129, dtype: int64"
      ]
     },
     "execution_count": 57,
     "metadata": {},
     "output_type": "execute_result"
    }
   ],
   "source": [
    "before_analysis = before[before[\"FILM\"].str.contains(\"2015\")].copy()\n",
    "before_analysis[\"FILM\"].value_counts()"
   ]
  },
  {
   "cell_type": "markdown",
   "id": "2f349bdf",
   "metadata": {},
   "source": [
    "## Comparing Distribution Shapes for 2015 and 2016"
   ]
  },
  {
   "cell_type": "code",
   "execution_count": 73,
   "id": "257cd301",
   "metadata": {},
   "outputs": [
    {
     "data": {
      "image/png": "[encoded data removed]",
      "text/plain": [
       "<Figure size 432x288 with 1 Axes>"
      ]
     },
     "metadata": {},
     "output_type": "display_data"
    }
   ],
   "source": [
    "# Create 2 Kernel density estimate plots\n",
    "\n",
    "import matplotlib.pyplot as plt\n",
    "plt.style.use('fivethirtyeight')\n",
    "before_analysis[\"Fandango_Stars\"].plot.kde(label = '2015', legend=True)\n",
    "after_analysis[\"fandango\"].plot.kde(label = '2016', legend=True)\n",
    "plt.xticks([0, 0.5, 1.0, 1.5, 2.0, 2.5, 3.0, 3.5, 4.0, 4.5, 5.0])\n",
    "plt.legend()\n",
    "plt.title('Comparing Distribution Shapes for Fandango\\'s ratings 2015 and 2016')\n",
    "plt.show()"
   ]
  },
  {
   "cell_type": "markdown",
   "id": "59ebd16c",
   "metadata": {},
   "source": [
    "From analysing the two kernal density plots, we noticed the followings:\n",
    "- The shape of both distributions are similar. High densities are noticed with rating stars from 3.5 to 4.5.\n",
    "- Distinct differences are more movies receive a 3.5 or 4-star rating in 2016 than in 2015, and less movies receive a 4.5 or 5 star rating in 2016 than in 2015.\n",
    "The plots also tell us something about the direction of the difference: movies in 2016 were rated slightly lower than those in 2015.\n",
    "\n",
    "While comparing the distributions with the help of the kernel density plots was a great start, we now need to analyze more granular information."
   ]
  },
  {
   "cell_type": "markdown",
   "id": "68de60b1",
   "metadata": {},
   "source": [
    "## Comparing Relative Frequencies"
   ]
  },
  {
   "cell_type": "code",
   "execution_count": 74,
   "id": "e3726e90",
   "metadata": {},
   "outputs": [
    {
     "data": {
      "text/plain": [
       "3.0    11\n",
       "3.5    23\n",
       "4.0    37\n",
       "4.5    49\n",
       "5.0     9\n",
       "Name: Fandango_Stars, dtype: int64"
      ]
     },
     "execution_count": 74,
     "metadata": {},
     "output_type": "execute_result"
    }
   ],
   "source": [
    "# Generate frequency table for the before_analysis dataset\n",
    "before_analysis[\"Fandango_Stars\"].value_counts().sort_index()"
   ]
  },
  {
   "cell_type": "code",
   "execution_count": 75,
   "id": "f4d0ca92",
   "metadata": {},
   "outputs": [
    {
     "data": {
      "text/plain": [
       "2.5     6\n",
       "3.0    14\n",
       "3.5    46\n",
       "4.0    77\n",
       "4.5    47\n",
       "5.0     1\n",
       "Name: fandango, dtype: int64"
      ]
     },
     "execution_count": 75,
     "metadata": {},
     "output_type": "execute_result"
    }
   ],
   "source": [
    "# Generate frequency table for the after_analysis dataset\n",
    "after_analysis[\"fandango\"].value_counts().sort_index()"
   ]
  },
  {
   "cell_type": "markdown",
   "id": "8ecad82a",
   "metadata": {},
   "source": [
    "Since the samples have different number of movies, comparing the two tables using absolute frequencies is not very useful. We'll compute relative frequencies table next."
   ]
  },
  {
   "cell_type": "code",
   "execution_count": 76,
   "id": "861b2e17",
   "metadata": {},
   "outputs": [
    {
     "data": {
      "text/plain": [
       "3.0     8.527132\n",
       "3.5    17.829457\n",
       "4.0    28.682171\n",
       "4.5    37.984496\n",
       "5.0     6.976744\n",
       "Name: Fandango_Stars, dtype: float64"
      ]
     },
     "execution_count": 76,
     "metadata": {},
     "output_type": "execute_result"
    }
   ],
   "source": [
    "before_analysis[\"Fandango_Stars\"].value_counts(normalize=True).sort_index()*100"
   ]
  },
  {
   "cell_type": "code",
   "execution_count": 79,
   "id": "7590dd9e",
   "metadata": {},
   "outputs": [
    {
     "data": {
      "text/plain": [
       "2.5     3.141361\n",
       "3.0     7.329843\n",
       "3.5    24.083770\n",
       "4.0    40.314136\n",
       "4.5    24.607330\n",
       "5.0     0.523560\n",
       "Name: fandango, dtype: float64"
      ]
     },
     "execution_count": 79,
     "metadata": {},
     "output_type": "execute_result"
    }
   ],
   "source": [
    "after_analysis[\"fandango\"].value_counts(normalize=True).sort_index()*100"
   ]
  },
  {
   "cell_type": "markdown",
   "id": "39138fb7",
   "metadata": {},
   "source": [
    "We can still see the difference between the two distributions as mentioned above. \n",
    "In 2016, very high ratings (4.5 and 5 stars) had significantly lower percentages compared to 2015. Also, the percentage for 5-star rating dropped from nearly 7% to 0.5%. The minimum rating is also lower in 2016 — 2.5 instead of 3 stars, the minimum of 2015. Furthermore, there are higher percentages for 3.5 and 4-star rating in 2016 than in 2015."
   ]
  },
  {
   "cell_type": "markdown",
   "id": "b2ce7dd8",
   "metadata": {},
   "source": [
    "##  Determining the Direction of the Change"
   ]
  },
  {
   "cell_type": "markdown",
   "id": "89d0ec99",
   "metadata": {},
   "source": [
    "To see clearly the direction of the difference, we'll take each distribution of movie ratings and compute its mean, median, and mode, and then compare these statistics."
   ]
  },
  {
   "cell_type": "code",
   "execution_count": 93,
   "id": "ada2ad83",
   "metadata": {},
   "outputs": [
    {
     "data": {
      "text/html": [
       "<div>\n",
       "<style scoped>\n",
       "    .dataframe tbody tr th:only-of-type {\n",
       "        vertical-align: middle;\n",
       "    }\n",
       "\n",
       "    .dataframe tbody tr th {\n",
       "        vertical-align: top;\n",
       "    }\n",
       "\n",
       "    .dataframe thead th {\n",
       "        text-align: right;\n",
       "    }\n",
       "</style>\n",
       "<table border=\"1\" class=\"dataframe\">\n",
       "  <thead>\n",
       "    <tr style=\"text-align: right;\">\n",
       "      <th></th>\n",
       "      <th>2015</th>\n",
       "      <th>2016</th>\n",
       "    </tr>\n",
       "  </thead>\n",
       "  <tbody>\n",
       "    <tr>\n",
       "      <th>mean</th>\n",
       "      <td>4.085271</td>\n",
       "      <td>3.887435</td>\n",
       "    </tr>\n",
       "    <tr>\n",
       "      <th>median</th>\n",
       "      <td>4.000000</td>\n",
       "      <td>4.000000</td>\n",
       "    </tr>\n",
       "    <tr>\n",
       "      <th>mode</th>\n",
       "      <td>4.500000</td>\n",
       "      <td>4.000000</td>\n",
       "    </tr>\n",
       "  </tbody>\n",
       "</table>\n",
       "</div>"
      ],
      "text/plain": [
       "            2015      2016\n",
       "mean    4.085271  3.887435\n",
       "median  4.000000  4.000000\n",
       "mode    4.500000  4.000000"
      ]
     },
     "execution_count": 93,
     "metadata": {},
     "output_type": "execute_result"
    }
   ],
   "source": [
    "# Summary metrics for distribution in 2015\n",
    "\n",
    "import numpy as np\n",
    "mean_2015 = before_analysis[\"Fandango_Stars\"].mean()\n",
    "mean_2016 = after_analysis[\"fandango\"].mean()\n",
    "\n",
    "median_2015 = before_analysis[\"Fandango_Stars\"].median()\n",
    "median_2016 = after_analysis[\"fandango\"].median()\n",
    "\n",
    "mode_2015 = before_analysis[\"Fandango_Stars\"].mode()[0]\n",
    "mode_2016 = after_analysis[\"fandango\"].mode()[0]\n",
    "\n",
    "df = pd.DataFrame(np.array([[mean_2015, mean_2016], [median_2015, median_2016], [mode_2015, mode_2016]]),\n",
    "                   columns=['2015', '2016'])\n",
    "df.index = ['mean', 'median', 'mode']\n",
    "df\n",
    "# Another way to create a dataframe\n",
    "# summary = pd.DataFrame()\n",
    "# summary['2015'] = [mean_2015, median_2015, mode_2015]\n",
    "# summary['2016'] = [mean_2016, median_2016, mode_2016]\n"
   ]
  },
  {
   "cell_type": "code",
   "execution_count": 116,
   "id": "73480aed",
   "metadata": {},
   "outputs": [
    {
     "data": {
      "image/png": "[encoded data removed]",
      "text/plain": [
       "<Figure size 576x360 with 1 Axes>"
      ]
     },
     "metadata": {},
     "output_type": "display_data"
    }
   ],
   "source": [
    "# Generate a grouped bar plot\n",
    "\n",
    "plt.style.use('fivethirtyeight')\n",
    "df[\"2015\"].plot.bar(color = '#0066FF', align = 'center', width = .25, label = '2015')\n",
    "df[\"2016\"].plot.bar(color = '#CC0000', align = 'edge', width = .25, rot = 0, label = '2016', figsize=(8,5))\n",
    "plt.legend(framealpha = 0, loc='upper center')\n",
    "plt.yticks([0.0, 0.5, 1.0, 1.5, 2.0, 2.5, 3.0, 3.5, 4.0, 4.5, 5.0])\n",
    "plt.title('Comparing summary statistics: 2015 vs 2016')\n",
    "plt.show()"
   ]
  },
  {
   "cell_type": "markdown",
   "id": "93f70698",
   "metadata": {},
   "source": [
    "From the grouped bar chart, we arrive at the followings:\n",
    "- The average rating in 2016 is lower than that in 2015.\n",
    "- The median is the same for both distributions.\n",
    "- The most repeated value in 2016 is 4 while in 2015 is 4.5.\n",
    "\n",
    "Thus, we can confirm that on average, movies in 2016 were rated slightly lower than those in 2015. "
   ]
  },
  {
   "cell_type": "markdown",
   "id": "91157568",
   "metadata": {},
   "source": [
    "## Conclusion"
   ]
  },
  {
   "cell_type": "markdown",
   "id": "5b2617dd",
   "metadata": {},
   "source": [
    "Our analysis showed that there's indeed a slight difference between Fandango's ratings for popular movies in 2015 and Fandango's ratings for popular movies in 2016. We also determined that, on average, popular movies released in 2016 were rated lower on Fandango than popular movies released in 2015.The reason for the change is not clear, however, one of the contributing factors might have been Hickey's analysis."
   ]
  }
 ],
 "metadata": {
  "kernelspec": {
   "display_name": "Python 3",
   "language": "python",
   "name": "python3"
  },
  "language_info": {
   "codemirror_mode": {
    "name": "ipython",
    "version": 3
   },
   "file_extension": ".py",
   "mimetype": "text/x-python",
   "name": "python",
   "nbconvert_exporter": "python",
   "pygments_lexer": "ipython3",
   "version": "3.8.8"
  }
 },
 "nbformat": 4,
 "nbformat_minor": 5
}
