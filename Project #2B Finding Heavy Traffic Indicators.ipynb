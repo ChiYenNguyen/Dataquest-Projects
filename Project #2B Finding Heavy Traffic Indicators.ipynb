{
 "cells": [
  {
   "cell_type": "markdown",
   "id": "da44c224",
   "metadata": {},
   "source": [
    "# Guided Project: Finding Heavy Traffic Indicators on I-94"
   ]
  },
  {
   "cell_type": "markdown",
   "id": "76c2de24",
   "metadata": {},
   "source": [
    "In this project, we're going to analyze a dataset about the westbound traffic on the [I-94 Interstate highway](https://en.wikipedia.org/wiki/Interstate_94).\n",
    "\n",
    "The goal of our analysis is to determine a few indicators of heavy traffic on I-94. These indicators can be weather type, time of the day, time of the week, etc. \n",
    "\n",
    "The [dataset documentation](https://archive.ics.uci.edu/ml/datasets/Metro+Interstate+Traffic+Volume) mentions that a station located approximately midway between Minneapolis and Saint Paul recorded the traffic data. Also, the station only records westbound traffic (cars moving from east to west).\n",
    "\n",
    "Thus, the results of our analysis will be about the westbound traffic in the proximity of that station. "
   ]
  },
  {
   "cell_type": "markdown",
   "id": "4da3fbf0",
   "metadata": {},
   "source": [
    "## Exploring the dataset"
   ]
  },
  {
   "cell_type": "code",
   "execution_count": 1,
   "id": "051a6fdd",
   "metadata": {},
   "outputs": [
    {
     "name": "stdout",
     "output_type": "stream",
     "text": [
      "  holiday    temp  rain_1h  snow_1h  clouds_all weather_main  \\\n",
      "0    None  288.28      0.0      0.0          40       Clouds   \n",
      "1    None  289.36      0.0      0.0          75       Clouds   \n",
      "2    None  289.58      0.0      0.0          90       Clouds   \n",
      "3    None  290.13      0.0      0.0          90       Clouds   \n",
      "4    None  291.14      0.0      0.0          75       Clouds   \n",
      "\n",
      "  weather_description            date_time  traffic_volume  \n",
      "0    scattered clouds  2012-10-02 09:00:00            5545  \n",
      "1       broken clouds  2012-10-02 10:00:00            4516  \n",
      "2     overcast clouds  2012-10-02 11:00:00            4767  \n",
      "3     overcast clouds  2012-10-02 12:00:00            5026  \n",
      "4       broken clouds  2012-10-02 13:00:00            4918  \n",
      "      holiday    temp  rain_1h  snow_1h  clouds_all  weather_main  \\\n",
      "48199    None  283.45      0.0      0.0          75        Clouds   \n",
      "48200    None  282.76      0.0      0.0          90        Clouds   \n",
      "48201    None  282.73      0.0      0.0          90  Thunderstorm   \n",
      "48202    None  282.09      0.0      0.0          90        Clouds   \n",
      "48203    None  282.12      0.0      0.0          90        Clouds   \n",
      "\n",
      "          weather_description            date_time  traffic_volume  \n",
      "48199           broken clouds  2018-09-30 19:00:00            3543  \n",
      "48200         overcast clouds  2018-09-30 20:00:00            2781  \n",
      "48201  proximity thunderstorm  2018-09-30 21:00:00            2159  \n",
      "48202         overcast clouds  2018-09-30 22:00:00            1450  \n",
      "48203         overcast clouds  2018-09-30 23:00:00             954  \n",
      "<class 'pandas.core.frame.DataFrame'>\n",
      "RangeIndex: 48204 entries, 0 to 48203\n",
      "Data columns (total 9 columns):\n",
      " #   Column               Non-Null Count  Dtype  \n",
      "---  ------               --------------  -----  \n",
      " 0   holiday              48204 non-null  object \n",
      " 1   temp                 48204 non-null  float64\n",
      " 2   rain_1h              48204 non-null  float64\n",
      " 3   snow_1h              48204 non-null  float64\n",
      " 4   clouds_all           48204 non-null  int64  \n",
      " 5   weather_main         48204 non-null  object \n",
      " 6   weather_description  48204 non-null  object \n",
      " 7   date_time            48204 non-null  object \n",
      " 8   traffic_volume       48204 non-null  int64  \n",
      "dtypes: float64(3), int64(2), object(4)\n",
      "memory usage: 3.3+ MB\n"
     ]
    }
   ],
   "source": [
    "import pandas as pd\n",
    "traffic = pd.read_csv('Metro_Interstate_Traffic_Volume.csv')\n",
    "print(traffic.head(5))\n",
    "print(traffic.tail(5))\n",
    "traffic.info()"
   ]
  },
  {
   "cell_type": "markdown",
   "id": "b5c47e1b",
   "metadata": {},
   "source": [
    "## Analysing traffic volume"
   ]
  },
  {
   "cell_type": "code",
   "execution_count": 2,
   "id": "903b20f3",
   "metadata": {},
   "outputs": [
    {
     "data": {
      "image/png": "[encoded data removed]",
      "text/plain": [
       "<Figure size 432x288 with 1 Axes>"
      ]
     },
     "metadata": {
      "needs_background": "light"
     },
     "output_type": "display_data"
    }
   ],
   "source": [
    "import matplotlib.pyplot as plt\n",
    "%matplotlib inline\n",
    "traffic[\"traffic_volume\"].plot.hist()\n",
    "plt.show()"
   ]
  },
  {
   "cell_type": "code",
   "execution_count": 3,
   "id": "8aac80ae",
   "metadata": {},
   "outputs": [
    {
     "name": "stdout",
     "output_type": "stream",
     "text": [
      "(-7.281000000000001, 728.0]    8095\n",
      "(728.0, 1456.0]                5100\n",
      "(1456.0, 2184.0]               2835\n",
      "(2184.0, 2912.0]               4765\n",
      "(2912.0, 3640.0]               4761\n",
      "(3640.0, 4368.0]               4349\n",
      "(4368.0, 5096.0]               7886\n",
      "(5096.0, 5824.0]               5634\n",
      "(5824.0, 6552.0]               3854\n",
      "(6552.0, 7280.0]                925\n",
      "Name: traffic_volume, dtype: int64\n",
      "\n",
      "\n",
      "count    48204.000000\n",
      "mean      3259.818355\n",
      "std       1986.860670\n",
      "min          0.000000\n",
      "25%       1193.000000\n",
      "50%       3380.000000\n",
      "75%       4933.000000\n",
      "max       7280.000000\n",
      "Name: traffic_volume, dtype: float64\n"
     ]
    }
   ],
   "source": [
    "print(traffic[\"traffic_volume\"].value_counts(bins=10).sort_index())\n",
    "print(\"\\n\")\n",
    "print(traffic[\"traffic_volume\"].describe())"
   ]
  },
  {
   "cell_type": "markdown",
   "id": "1231f52c",
   "metadata": {},
   "source": [
    "We can make the following observations;\n",
    "- Over the period, the values ranged between 0 and 7280 traffic volume.\n",
    "- Most typically, the number of traffic volume varies between 0 to 728, or between 4368 and 5096 - the 2 tallest bars are around that interval."
   ]
  },
  {
   "cell_type": "markdown",
   "id": "6c3c89e2",
   "metadata": {},
   "source": [
    "## Traffic Volume: Day vs. Night (I)"
   ]
  },
  {
   "cell_type": "markdown",
   "id": "1ad021a8",
   "metadata": {},
   "source": [
    "There is a possibility that nighttime and daytime might influence traffic volume. We'll start by dividing the dataset into two parts:\n",
    "\n",
    "- Daytime data: hours from 7 a.m. to 7 p.m. (12 hours)\n",
    "- Nighttime data: hours from 7 p.m. to 7 a.m. (12 hours)"
   ]
  },
  {
   "cell_type": "code",
   "execution_count": 4,
   "id": "d85ed6dc",
   "metadata": {},
   "outputs": [],
   "source": [
    "traffic[\"date_time\"] = pd.to_datetime(traffic[\"date_time\"])"
   ]
  },
  {
   "cell_type": "code",
   "execution_count": 5,
   "id": "341a8bac",
   "metadata": {},
   "outputs": [
    {
     "name": "stdout",
     "output_type": "stream",
     "text": [
      "(23877, 9)\n",
      "(24327, 9)\n"
     ]
    }
   ],
   "source": [
    "day_time = traffic.copy()[(traffic[\"date_time\"].dt.hour >= 7) & (traffic[\"date_time\"].dt.hour <19)]\n",
    "night_time = traffic.copy()[(traffic[\"date_time\"].dt.hour >= 19) | (traffic[\"date_time\"].dt.hour < 7)]\n",
    "print(day_time.shape)\n",
    "print(night_time.shape)      "
   ]
  },
  {
   "cell_type": "markdown",
   "id": "02cec0d5",
   "metadata": {},
   "source": [
    "## Traffic Volume: Day vs. Night (II)"
   ]
  },
  {
   "cell_type": "markdown",
   "id": "e7bea8b4",
   "metadata": {},
   "source": [
    "We're going to compare the traffic volume at night and during day by plotting the histograms of 'traffic_volume' columns for both day and night dataset."
   ]
  },
  {
   "cell_type": "code",
   "execution_count": 35,
   "id": "fbc94dee",
   "metadata": {},
   "outputs": [
    {
     "data": {
      "image/png": "[encoded data removed]",
      "text/plain": [
       "<Figure size 792x288 with 2 Axes>"
      ]
     },
     "metadata": {
      "needs_background": "light"
     },
     "output_type": "display_data"
    }
   ],
   "source": [
    "plt.figure(figsize=(11,4))\n",
    "\n",
    "# The first subplot\n",
    "plt.subplot(1,2,1)\n",
    "day_time[\"traffic_volume\"].plot.hist()\n",
    "plt.title(\"Day\")\n",
    "plt.xlabel(\"Traffic Volume\")\n",
    "plt.xlim([0,8000])\n",
    "plt.ylim([0,8000])\n",
    "\n",
    "# The second subplot\n",
    "plt.subplot(1,2,2)\n",
    "night_time[\"traffic_volume\"].plot.hist()\n",
    "plt.title(\"Night\")\n",
    "plt.xlabel(\"Traffic Volume\")\n",
    "plt.xlim([0,8000])\n",
    "plt.ylim([0,8000])\n",
    "plt.show()"
   ]
  },
  {
   "cell_type": "code",
   "execution_count": 23,
   "id": "7da66c2a",
   "metadata": {},
   "outputs": [
    {
     "data": {
      "text/plain": [
       "count    23877.000000\n",
       "mean      4762.047452\n",
       "std       1174.546482\n",
       "min          0.000000\n",
       "25%       4252.000000\n",
       "50%       4820.000000\n",
       "75%       5559.000000\n",
       "max       7280.000000\n",
       "Name: traffic_volume, dtype: float64"
      ]
     },
     "execution_count": 23,
     "metadata": {},
     "output_type": "execute_result"
    }
   ],
   "source": [
    "day_time[\"traffic_volume\"].describe()"
   ]
  },
  {
   "cell_type": "code",
   "execution_count": 24,
   "id": "99251e9d",
   "metadata": {},
   "outputs": [
    {
     "data": {
      "text/plain": [
       "count    24327.000000\n",
       "mean      1785.377441\n",
       "std       1441.951197\n",
       "min          0.000000\n",
       "25%        530.000000\n",
       "50%       1287.000000\n",
       "75%       2819.000000\n",
       "max       6386.000000\n",
       "Name: traffic_volume, dtype: float64"
      ]
     },
     "execution_count": 24,
     "metadata": {},
     "output_type": "execute_result"
    }
   ],
   "source": [
    "night_time[\"traffic_volume\"].describe()"
   ]
  },
  {
   "cell_type": "markdown",
   "id": "3832d0f7",
   "metadata": {},
   "source": [
    "The 'Night' histogram is right skewed. This means that the smaller traffic volume values occur in the data with higher frequency and the larger values occur with comparatively lesser frequency. On the other hand, the 'Day' histogram is left skewed, which means that the larger traffic volume values occur with higher frequency. Thus, the traffic at night can be said to be light compared to that at day time. As our goal is to find indicators of heavy traffic, we will be using the day time data moving forward."
   ]
  },
  {
   "cell_type": "markdown",
   "id": "ce5cf715",
   "metadata": {},
   "source": [
    "## Time Indicators"
   ]
  },
  {
   "cell_type": "markdown",
   "id": "691e93fa",
   "metadata": {},
   "source": [
    "One of the possible indicators of heavy traffic is time. There might be more people on the road in a certain month, on a certain day, or at a certain time of the day.\n",
    "\n",
    "We're going to look at a few line plots showing how the traffic volume changed according to the following parameters:\n",
    "\n",
    "- Month\n",
    "- Day of the week\n",
    "- Time of day"
   ]
  },
  {
   "cell_type": "markdown",
   "id": "de543118",
   "metadata": {},
   "source": [
    "First, we'll look at monthly traffic volume averages"
   ]
  },
  {
   "cell_type": "code",
   "execution_count": 31,
   "id": "0c0e2f0d",
   "metadata": {},
   "outputs": [
    {
     "name": "stdout",
     "output_type": "stream",
     "text": [
      "month\n",
      "1     4495.613727\n",
      "2     4711.198394\n",
      "3     4889.409560\n",
      "4     4906.894305\n",
      "5     4911.121609\n",
      "6     4898.019566\n",
      "7     4595.035744\n",
      "8     4928.302035\n",
      "9     4870.783145\n",
      "10    4921.234922\n",
      "11    4704.094319\n",
      "12    4374.834566\n",
      "Name: traffic_volume, dtype: float64\n"
     ]
    }
   ],
   "source": [
    "# Create a new column where each value describes the month when the traffic volume measurement was taken \n",
    "day_time[\"month\"] = day_time[\"date_time\"].dt.month\n",
    "\n",
    "# Group the dataset by the month column with the mean as an aggregate function\n",
    "by_month = day_time.groupby(\"month\").mean()\n",
    "print(by_month[\"traffic_volume\"])"
   ]
  },
  {
   "cell_type": "code",
   "execution_count": 36,
   "id": "a6a0babf",
   "metadata": {},
   "outputs": [
    {
     "data": {
      "image/png": "[encoded data removed]",
      "text/plain": [
       "<Figure size 432x288 with 1 Axes>"
      ]
     },
     "metadata": {
      "needs_background": "light"
     },
     "output_type": "display_data"
    }
   ],
   "source": [
    "# Generate a line plot\n",
    "\n",
    "by_month[\"traffic_volume\"].plot.line()\n",
    "plt.show()"
   ]
  },
  {
   "cell_type": "markdown",
   "id": "449ad648",
   "metadata": {},
   "source": [
    "The traffic volumes are quite high and almost the same for the warm months (spring and summer): March to June, and August to October. Also, the traffic volumes are smaller in the cold months (winter): January, February, November and December. The is a significant drop in traffic volumes in July."
   ]
  },
  {
   "cell_type": "code",
   "execution_count": 47,
   "id": "a9aceecb",
   "metadata": {},
   "outputs": [
    {
     "data": {
      "image/png": "[encoded data removed]",
      "text/plain": [
       "<Figure size 432x288 with 1 Axes>"
      ]
     },
     "metadata": {
      "needs_background": "light"
     },
     "output_type": "display_data"
    }
   ],
   "source": [
    "# Create a new column for the years\n",
    "day_time[\"year\"] = day_time[\"date_time\"].dt.year\n",
    "\n",
    "# Create a dataframe for the month July\n",
    "only_july = day_time[day_time[\"month\"] == 7]\n",
    "\n",
    "# Group by year\n",
    "by_year = only_july.groupby(\"year\").mean()\n",
    "by_year[\"traffic_volume\"].plot.line()\n",
    "plt.show()"
   ]
  },
  {
   "cell_type": "markdown",
   "id": "106fa113",
   "metadata": {},
   "source": [
    "For most years, the traffic is heavy in July, similar to the other warm months. The only exception is the year 2016, which had a high decrease in traffic volume. One possible reason for this is road construction — [this article from 2016](https://www.crainsdetroit.com/article/20160728/NEWS/160729841/weekend-construction-i-96-us-23-bridge-work-i-94-lane-closures-i-696) supports this hypothesis."
   ]
  },
  {
   "cell_type": "markdown",
   "id": "4883264e",
   "metadata": {},
   "source": [
    "## Time Indicators (II)"
   ]
  },
  {
   "cell_type": "markdown",
   "id": "47d1421c",
   "metadata": {},
   "source": [
    "We'll now continue with building line plots for another time unit: day of the week."
   ]
  },
  {
   "cell_type": "code",
   "execution_count": 38,
   "id": "b54c0990",
   "metadata": {},
   "outputs": [
    {
     "data": {
      "text/plain": [
       "dayofweek\n",
       "0    4893.551286\n",
       "1    5189.004782\n",
       "2    5284.454282\n",
       "3    5311.303730\n",
       "4    5291.600829\n",
       "5    3927.249558\n",
       "6    3436.541789\n",
       "Name: traffic_volume, dtype: float64"
      ]
     },
     "execution_count": 38,
     "metadata": {},
     "output_type": "execute_result"
    }
   ],
   "source": [
    "# Get the traffic volume averages for each day of the week\n",
    "\n",
    "day_time[\"dayofweek\"] = day_time[\"date_time\"].dt.dayofweek\n",
    "by_dayofweek = day_time.groupby(\"dayofweek\").mean()\n",
    "by_dayofweek[\"traffic_volume\"]  # 0 is Monday, 6 is Sunday"
   ]
  },
  {
   "cell_type": "code",
   "execution_count": 39,
   "id": "7225ac96",
   "metadata": {},
   "outputs": [
    {
     "data": {
      "image/png": "[encoded data removed]",
      "text/plain": [
       "<Figure size 432x288 with 1 Axes>"
      ]
     },
     "metadata": {
      "needs_background": "light"
     },
     "output_type": "display_data"
    }
   ],
   "source": [
    "# Generate the line plot\n",
    "by_dayofweek[\"traffic_volume\"].plot.line()\n",
    "plt.show()"
   ]
  },
  {
   "cell_type": "markdown",
   "id": "e5561e1a",
   "metadata": {},
   "source": [
    "From the line plot, we notice that there is a significant difference in traffic volumes between business days and the weekend. Specifically, the traffic is much lighter on Saturdays and Sundays, with values below 4,000; among business days, Mondays have lighter traffic, below 5,000 cars."
   ]
  },
  {
   "cell_type": "markdown",
   "id": "6cba4d7a",
   "metadata": {},
   "source": [
    "## Time Indicators (III)"
   ]
  },
  {
   "cell_type": "markdown",
   "id": "52cf3e6e",
   "metadata": {},
   "source": [
    "We'll now generate a line plot for the time of day. The weekends, however, will drag down the average values, so we're going to look at the averages separately. To do that, we'll start by splitting the data based on the day type: business day or weekend."
   ]
  },
  {
   "cell_type": "code",
   "execution_count": 49,
   "id": "1ae37982",
   "metadata": {},
   "outputs": [
    {
     "name": "stdout",
     "output_type": "stream",
     "text": [
      "hour\n",
      "7     6030.413559\n",
      "8     5503.497970\n",
      "9     4895.269257\n",
      "10    4378.419118\n",
      "11    4633.419470\n",
      "12    4855.382143\n",
      "13    4859.180473\n",
      "14    5152.995778\n",
      "15    5592.897768\n",
      "16    6189.473647\n",
      "17    5784.827133\n",
      "18    4434.209431\n",
      "Name: traffic_volume, dtype: float64\n",
      "hour\n",
      "7     1589.365894\n",
      "8     2338.578073\n",
      "9     3111.623917\n",
      "10    3686.632302\n",
      "11    4044.154955\n",
      "12    4372.482883\n",
      "13    4362.296564\n",
      "14    4358.543796\n",
      "15    4342.456881\n",
      "16    4339.693805\n",
      "17    4151.919929\n",
      "18    3811.792279\n",
      "Name: traffic_volume, dtype: float64\n"
     ]
    }
   ],
   "source": [
    "# Create a new column for hours\n",
    "day_time[\"hour\"] = day_time[\"date_time\"].dt.hour\n",
    "\n",
    "# Create a copy of dataframe 'day_time' for business days\n",
    "business_days = day_time.copy()[day_time[\"dayofweek\"]  <= 4] # Friday is 4\n",
    "\n",
    "# Create a copy of dataframe 'day_time' for weekend days\n",
    "weekend = day_time.copy()[day_time[\"dayofweek\"] >= 5]\n",
    "\n",
    "# Group averages by hours\n",
    "by_hour_business = business_days.groupby(\"hour\").mean()\n",
    "by_hour_weekend = weekend.groupby(\"hour\").mean()\n",
    "\n",
    "# Print traffic volume columns\n",
    "print(by_hour_business[\"traffic_volume\"])\n",
    "print(by_hour_weekend[\"traffic_volume\"])\n"
   ]
  },
  {
   "cell_type": "code",
   "execution_count": 54,
   "id": "defeec08",
   "metadata": {},
   "outputs": [
    {
     "data": {
      "image/png": "[encoded data removed]",
      "text/plain": [
       "<Figure size 792x288 with 2 Axes>"
      ]
     },
     "metadata": {
      "needs_background": "light"
     },
     "output_type": "display_data"
    }
   ],
   "source": [
    "# Generate two line plots on a grid chart\n",
    "\n",
    "plt.figure(figsize=(11,4))\n",
    "\n",
    "# First line subplot\n",
    "plt.subplot(1,2,1)\n",
    "by_hour_business[\"traffic_volume\"].plot.line()\n",
    "plt.title(\"Traffic Volume By Hour: Monday–Friday\")\n",
    "plt.ylim([0,7000])\n",
    "# Second line subplot\n",
    "plt.subplot(1,2,2)\n",
    "by_hour_weekend[\"traffic_volume\"].plot.line()\n",
    "plt.title(\"Traffic Volume By Hour: Weekend\")\n",
    "plt.ylim([0,7000])\n",
    "plt.show()\n"
   ]
  },
  {
   "cell_type": "markdown",
   "id": "8654c300",
   "metadata": {},
   "source": [
    "At each hour of the day, the traffic volume is generally higher during business days compared to the weekends.\n",
    "The rush hours on business days are before 8 and at 4pm. That the traffic is heavier when people travel to and from work may explain this. On weekends, the traffic volume is around 4,000 cars at most hours, except for before 10am."
   ]
  },
  {
   "cell_type": "markdown",
   "id": "1f886500",
   "metadata": {},
   "source": [
    " We summary, we have the following time indicators for heavy traffic;\n",
    " - Traffic is heavier during the warm months (Mar-Oct) and lighter during the cold months (Nov-Feb).\n",
    " - Traffic is heavier during business days compared to weekends.\n",
    " - Traffic is heavier on most hours during business days compared to weekends. The rush hours on business days are before 8am and 4pm, which are expectedly understandable given the working hours. "
   ]
  },
  {
   "cell_type": "markdown",
   "id": "cf19f866",
   "metadata": {},
   "source": [
    "## Weather Indicators"
   ]
  },
  {
   "cell_type": "markdown",
   "id": "b15f457a",
   "metadata": {},
   "source": [
    "Another possible indicator of heavy traffic is weather. The dataset provides us with a few useful columns about weather: temp, rain_1h, snow_1h, clouds_all, weather_main, weather_description.\n",
    "\n",
    "A few of these columns are numerical so let's start by looking up their correlation values with traffic_volume."
   ]
  },
  {
   "cell_type": "code",
   "execution_count": 60,
   "id": "01a5e9b8",
   "metadata": {},
   "outputs": [
    {
     "data": {
      "text/html": [
       "<div>\n",
       "<style scoped>\n",
       "    .dataframe tbody tr th:only-of-type {\n",
       "        vertical-align: middle;\n",
       "    }\n",
       "\n",
       "    .dataframe tbody tr th {\n",
       "        vertical-align: top;\n",
       "    }\n",
       "\n",
       "    .dataframe thead th {\n",
       "        text-align: right;\n",
       "    }\n",
       "</style>\n",
       "<table border=\"1\" class=\"dataframe\">\n",
       "  <thead>\n",
       "    <tr style=\"text-align: right;\">\n",
       "      <th></th>\n",
       "      <th>temp</th>\n",
       "      <th>rain_1h</th>\n",
       "      <th>snow_1h</th>\n",
       "      <th>clouds_all</th>\n",
       "      <th>traffic_volume</th>\n",
       "      <th>month</th>\n",
       "      <th>dayofweek</th>\n",
       "      <th>year</th>\n",
       "      <th>hour</th>\n",
       "    </tr>\n",
       "  </thead>\n",
       "  <tbody>\n",
       "    <tr>\n",
       "      <th>temp</th>\n",
       "      <td>1.000000</td>\n",
       "      <td>0.010815</td>\n",
       "      <td>-0.019286</td>\n",
       "      <td>-0.135519</td>\n",
       "      <td>0.128317</td>\n",
       "      <td>0.222072</td>\n",
       "      <td>0.000188</td>\n",
       "      <td>0.132855</td>\n",
       "      <td>0.162691</td>\n",
       "    </tr>\n",
       "    <tr>\n",
       "      <th>rain_1h</th>\n",
       "      <td>0.010815</td>\n",
       "      <td>1.000000</td>\n",
       "      <td>-0.000091</td>\n",
       "      <td>0.004993</td>\n",
       "      <td>0.003697</td>\n",
       "      <td>0.001176</td>\n",
       "      <td>-0.009683</td>\n",
       "      <td>0.001290</td>\n",
       "      <td>0.008279</td>\n",
       "    </tr>\n",
       "    <tr>\n",
       "      <th>snow_1h</th>\n",
       "      <td>-0.019286</td>\n",
       "      <td>-0.000091</td>\n",
       "      <td>1.000000</td>\n",
       "      <td>0.027721</td>\n",
       "      <td>0.001265</td>\n",
       "      <td>0.026768</td>\n",
       "      <td>-0.008814</td>\n",
       "      <td>-0.004546</td>\n",
       "      <td>0.003923</td>\n",
       "    </tr>\n",
       "    <tr>\n",
       "      <th>clouds_all</th>\n",
       "      <td>-0.135519</td>\n",
       "      <td>0.004993</td>\n",
       "      <td>0.027721</td>\n",
       "      <td>1.000000</td>\n",
       "      <td>-0.032932</td>\n",
       "      <td>0.000595</td>\n",
       "      <td>-0.041980</td>\n",
       "      <td>-0.030387</td>\n",
       "      <td>0.023685</td>\n",
       "    </tr>\n",
       "    <tr>\n",
       "      <th>traffic_volume</th>\n",
       "      <td>0.128317</td>\n",
       "      <td>0.003697</td>\n",
       "      <td>0.001265</td>\n",
       "      <td>-0.032932</td>\n",
       "      <td>1.000000</td>\n",
       "      <td>-0.022337</td>\n",
       "      <td>-0.416453</td>\n",
       "      <td>-0.003557</td>\n",
       "      <td>0.172704</td>\n",
       "    </tr>\n",
       "    <tr>\n",
       "      <th>month</th>\n",
       "      <td>0.222072</td>\n",
       "      <td>0.001176</td>\n",
       "      <td>0.026768</td>\n",
       "      <td>0.000595</td>\n",
       "      <td>-0.022337</td>\n",
       "      <td>1.000000</td>\n",
       "      <td>0.013656</td>\n",
       "      <td>-0.158583</td>\n",
       "      <td>0.008145</td>\n",
       "    </tr>\n",
       "    <tr>\n",
       "      <th>dayofweek</th>\n",
       "      <td>0.000188</td>\n",
       "      <td>-0.009683</td>\n",
       "      <td>-0.008814</td>\n",
       "      <td>-0.041980</td>\n",
       "      <td>-0.416453</td>\n",
       "      <td>0.013656</td>\n",
       "      <td>1.000000</td>\n",
       "      <td>-0.012123</td>\n",
       "      <td>-0.002767</td>\n",
       "    </tr>\n",
       "    <tr>\n",
       "      <th>year</th>\n",
       "      <td>0.132855</td>\n",
       "      <td>0.001290</td>\n",
       "      <td>-0.004546</td>\n",
       "      <td>-0.030387</td>\n",
       "      <td>-0.003557</td>\n",
       "      <td>-0.158583</td>\n",
       "      <td>-0.012123</td>\n",
       "      <td>1.000000</td>\n",
       "      <td>-0.003822</td>\n",
       "    </tr>\n",
       "    <tr>\n",
       "      <th>hour</th>\n",
       "      <td>0.162691</td>\n",
       "      <td>0.008279</td>\n",
       "      <td>0.003923</td>\n",
       "      <td>0.023685</td>\n",
       "      <td>0.172704</td>\n",
       "      <td>0.008145</td>\n",
       "      <td>-0.002767</td>\n",
       "      <td>-0.003822</td>\n",
       "      <td>1.000000</td>\n",
       "    </tr>\n",
       "  </tbody>\n",
       "</table>\n",
       "</div>"
      ],
      "text/plain": [
       "                    temp   rain_1h   snow_1h  clouds_all  traffic_volume  \\\n",
       "temp            1.000000  0.010815 -0.019286   -0.135519        0.128317   \n",
       "rain_1h         0.010815  1.000000 -0.000091    0.004993        0.003697   \n",
       "snow_1h        -0.019286 -0.000091  1.000000    0.027721        0.001265   \n",
       "clouds_all     -0.135519  0.004993  0.027721    1.000000       -0.032932   \n",
       "traffic_volume  0.128317  0.003697  0.001265   -0.032932        1.000000   \n",
       "month           0.222072  0.001176  0.026768    0.000595       -0.022337   \n",
       "dayofweek       0.000188 -0.009683 -0.008814   -0.041980       -0.416453   \n",
       "year            0.132855  0.001290 -0.004546   -0.030387       -0.003557   \n",
       "hour            0.162691  0.008279  0.003923    0.023685        0.172704   \n",
       "\n",
       "                   month  dayofweek      year      hour  \n",
       "temp            0.222072   0.000188  0.132855  0.162691  \n",
       "rain_1h         0.001176  -0.009683  0.001290  0.008279  \n",
       "snow_1h         0.026768  -0.008814 -0.004546  0.003923  \n",
       "clouds_all      0.000595  -0.041980 -0.030387  0.023685  \n",
       "traffic_volume -0.022337  -0.416453 -0.003557  0.172704  \n",
       "month           1.000000   0.013656 -0.158583  0.008145  \n",
       "dayofweek       0.013656   1.000000 -0.012123 -0.002767  \n",
       "year           -0.158583  -0.012123  1.000000 -0.003822  \n",
       "hour            0.008145  -0.002767 -0.003822  1.000000  "
      ]
     },
     "execution_count": 60,
     "metadata": {},
     "output_type": "execute_result"
    }
   ],
   "source": [
    "# Overview of correlations for traffic dataframe\n",
    "day_time.corr()"
   ]
  },
  {
   "cell_type": "code",
   "execution_count": 61,
   "id": "68584600",
   "metadata": {},
   "outputs": [
    {
     "data": {
      "text/html": [
       "<div>\n",
       "<style scoped>\n",
       "    .dataframe tbody tr th:only-of-type {\n",
       "        vertical-align: middle;\n",
       "    }\n",
       "\n",
       "    .dataframe tbody tr th {\n",
       "        vertical-align: top;\n",
       "    }\n",
       "\n",
       "    .dataframe thead th {\n",
       "        text-align: right;\n",
       "    }\n",
       "</style>\n",
       "<table border=\"1\" class=\"dataframe\">\n",
       "  <thead>\n",
       "    <tr style=\"text-align: right;\">\n",
       "      <th></th>\n",
       "      <th>temp</th>\n",
       "      <th>rain_1h</th>\n",
       "      <th>snow_1h</th>\n",
       "      <th>clouds_all</th>\n",
       "    </tr>\n",
       "  </thead>\n",
       "  <tbody>\n",
       "    <tr>\n",
       "      <th>temp</th>\n",
       "      <td>1.000000</td>\n",
       "      <td>0.010815</td>\n",
       "      <td>-0.019286</td>\n",
       "      <td>-0.135519</td>\n",
       "    </tr>\n",
       "    <tr>\n",
       "      <th>rain_1h</th>\n",
       "      <td>0.010815</td>\n",
       "      <td>1.000000</td>\n",
       "      <td>-0.000091</td>\n",
       "      <td>0.004993</td>\n",
       "    </tr>\n",
       "    <tr>\n",
       "      <th>snow_1h</th>\n",
       "      <td>-0.019286</td>\n",
       "      <td>-0.000091</td>\n",
       "      <td>1.000000</td>\n",
       "      <td>0.027721</td>\n",
       "    </tr>\n",
       "    <tr>\n",
       "      <th>clouds_all</th>\n",
       "      <td>-0.135519</td>\n",
       "      <td>0.004993</td>\n",
       "      <td>0.027721</td>\n",
       "      <td>1.000000</td>\n",
       "    </tr>\n",
       "    <tr>\n",
       "      <th>traffic_volume</th>\n",
       "      <td>0.128317</td>\n",
       "      <td>0.003697</td>\n",
       "      <td>0.001265</td>\n",
       "      <td>-0.032932</td>\n",
       "    </tr>\n",
       "    <tr>\n",
       "      <th>month</th>\n",
       "      <td>0.222072</td>\n",
       "      <td>0.001176</td>\n",
       "      <td>0.026768</td>\n",
       "      <td>0.000595</td>\n",
       "    </tr>\n",
       "    <tr>\n",
       "      <th>dayofweek</th>\n",
       "      <td>0.000188</td>\n",
       "      <td>-0.009683</td>\n",
       "      <td>-0.008814</td>\n",
       "      <td>-0.041980</td>\n",
       "    </tr>\n",
       "    <tr>\n",
       "      <th>year</th>\n",
       "      <td>0.132855</td>\n",
       "      <td>0.001290</td>\n",
       "      <td>-0.004546</td>\n",
       "      <td>-0.030387</td>\n",
       "    </tr>\n",
       "    <tr>\n",
       "      <th>hour</th>\n",
       "      <td>0.162691</td>\n",
       "      <td>0.008279</td>\n",
       "      <td>0.003923</td>\n",
       "      <td>0.023685</td>\n",
       "    </tr>\n",
       "  </tbody>\n",
       "</table>\n",
       "</div>"
      ],
      "text/plain": [
       "                    temp   rain_1h   snow_1h  clouds_all\n",
       "temp            1.000000  0.010815 -0.019286   -0.135519\n",
       "rain_1h         0.010815  1.000000 -0.000091    0.004993\n",
       "snow_1h        -0.019286 -0.000091  1.000000    0.027721\n",
       "clouds_all     -0.135519  0.004993  0.027721    1.000000\n",
       "traffic_volume  0.128317  0.003697  0.001265   -0.032932\n",
       "month           0.222072  0.001176  0.026768    0.000595\n",
       "dayofweek       0.000188 -0.009683 -0.008814   -0.041980\n",
       "year            0.132855  0.001290 -0.004546   -0.030387\n",
       "hour            0.162691  0.008279  0.003923    0.023685"
      ]
     },
     "execution_count": 61,
     "metadata": {},
     "output_type": "execute_result"
    }
   ],
   "source": [
    "#  Correlation values between traffic_volume and the numerical weather columns\n",
    "day_time.corr()[[\"temp\",\"rain_1h\", \"snow_1h\", \"clouds_all\"]]"
   ]
  },
  {
   "cell_type": "markdown",
   "id": "946c2922",
   "metadata": {},
   "source": [
    "The weather column with the strongest correlation with traffic_volume is temperature with r=+0.12. We'll plot a scatter plot for this temperature column and traffic_volume."
   ]
  },
  {
   "cell_type": "code",
   "execution_count": 65,
   "id": "73b87b9b",
   "metadata": {},
   "outputs": [
    {
     "data": {
      "image/png": "[encoded data removed]",
      "text/plain": [
       "<Figure size 432x288 with 1 Axes>"
      ]
     },
     "metadata": {
      "needs_background": "light"
     },
     "output_type": "display_data"
    }
   ],
   "source": [
    "# Generate a scatter plot\n",
    "day_time.plot.scatter(x=\"traffic_volume\",y=\"temp\")\n",
    "plt.ylim(100, 320)\n",
    "plt.show()"
   ]
  },
  {
   "cell_type": "markdown",
   "id": "a84bc54c",
   "metadata": {},
   "source": [
    "As all correlation values between traffic volume and weather columns are close to 0, there is no correlation. Thus, we can conclude that weather columns don't seem to be reliable indicators for heavy traffic."
   ]
  },
  {
   "cell_type": "markdown",
   "id": "05ef553e",
   "metadata": {},
   "source": [
    "## Weather Types"
   ]
  },
  {
   "cell_type": "markdown",
   "id": "cfee562d",
   "metadata": {},
   "source": [
    "To see if we can find more useful data, we'll look next at the categorical weather-related columns: weather_main and weather_description"
   ]
  },
  {
   "cell_type": "code",
   "execution_count": 68,
   "id": "3656b8f3",
   "metadata": {},
   "outputs": [],
   "source": [
    "# Calculate the average values\n",
    "by_weather_main = day_time.groupby(\"weather_main\").mean()\n",
    "by_weather_description = day_time.groupby(\"weather_description\").mean()"
   ]
  },
  {
   "cell_type": "code",
   "execution_count": 70,
   "id": "7b8d6314",
   "metadata": {},
   "outputs": [
    {
     "data": {
      "image/png": "[encoded data removed]",
      "text/plain": [
       "<Figure size 432x288 with 1 Axes>"
      ]
     },
     "metadata": {
      "needs_background": "light"
     },
     "output_type": "display_data"
    }
   ],
   "source": [
    "# Plot a horizontal bar plot for the traffic_volume column of by_weather_main\n",
    "by_weather_main[\"traffic_volume\"].plot.barh()\n",
    "plt.show()"
   ]
  },
  {
   "cell_type": "markdown",
   "id": "2e3242dc",
   "metadata": {},
   "source": [
    "From the bar plot, we see that there is no traffic volume exceeding 5,000 cars. Recall from the statistics about traffic volume colume above, 75% of the time, the number of cars was less than 5,559. THus, we can assume that there is no weather type as a heavy traffic indicator."
   ]
  },
  {
   "cell_type": "code",
   "execution_count": 77,
   "id": "81b8551b",
   "metadata": {},
   "outputs": [
    {
     "data": {
      "text/plain": [
       "<AxesSubplot:ylabel='weather_description'>"
      ]
     },
     "execution_count": 77,
     "metadata": {},
     "output_type": "execute_result"
    },
    {
     "data": {
      "image/png": "[encoded data removed]",
      "text/plain": [
       "<Figure size 360x792 with 1 Axes>"
      ]
     },
     "metadata": {
      "needs_background": "light"
     },
     "output_type": "display_data"
    }
   ],
   "source": [
    "# Plot a horizontal bar plot for the traffic_volume column of by_weather_description\n",
    "by_weather_description[\"traffic_volume\"].plot.barh(figsize=(5,11))"
   ]
  },
  {
   "cell_type": "markdown",
   "id": "303d2e7d",
   "metadata": {},
   "source": [
    "There are traffic volume exceeding 5,000 cars when the weather descriptions are 'light rain and snow', 'proximity thunderstorm and drizzle', and 'shower snow'. These are not necessarily bad weather, so they can't be said to be heavy traffic indicators."
   ]
  },
  {
   "cell_type": "markdown",
   "id": "728168c5",
   "metadata": {},
   "source": [
    "## Conclusion"
   ]
  },
  {
   "cell_type": "markdown",
   "id": "89d53274",
   "metadata": {},
   "source": [
    "In this project, we tried to find a few indicators of heavy traffic on the I-94 Interstate highway. We managed to find two types of indicators:\n",
    "\n",
    "- Time indicators\n",
    "    - The traffic is usually heavier during warm months (March–October) compared to cold months (November–February).\n",
    "    - The traffic is usually heavier on business days compared to the weekends.\n",
    "    - On business days, the rush hours are around 7 and 16.\n",
    "- Weather indicators\n",
    "    - Shower snow\n",
    "    - Light rain and snow\n",
    "    - Proximity thunderstorm with drizzle"
   ]
  }
 ],
 "metadata": {
  "kernelspec": {
   "display_name": "Python 3",
   "language": "python",
   "name": "python3"
  },
  "language_info": {
   "codemirror_mode": {
    "name": "ipython",
    "version": 3
   },
   "file_extension": ".py",
   "mimetype": "text/x-python",
   "name": "python",
   "nbconvert_exporter": "python",
   "pygments_lexer": "ipython3",
   "version": "3.8.8"
  }
 },
 "nbformat": 4,
 "nbformat_minor": 5
}
