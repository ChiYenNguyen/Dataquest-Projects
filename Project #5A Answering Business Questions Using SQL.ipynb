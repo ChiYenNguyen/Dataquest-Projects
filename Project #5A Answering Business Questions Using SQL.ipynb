{
 "cells": [
  {
   "cell_type": "markdown",
   "id": "57bd713e",
   "metadata": {},
   "source": [
    "## Guided Project: Answering Business Questions Using SQL"
   ]
  },
  {
   "cell_type": "code",
   "execution_count": 1,
   "id": "546fa596",
   "metadata": {},
   "outputs": [],
   "source": [
    "%load_ext sql"
   ]
  },
  {
   "cell_type": "code",
   "execution_count": 2,
   "id": "700a4ea3",
   "metadata": {},
   "outputs": [
    {
     "data": {
      "text/plain": [
       "'Connected: @chinook.db'"
      ]
     },
     "execution_count": 2,
     "metadata": {},
     "output_type": "execute_result"
    }
   ],
   "source": [
    "%sql sqlite:///chinook.db"
   ]
  },
  {
   "cell_type": "markdown",
   "id": "ce73ff53",
   "metadata": {},
   "source": [
    "# Overview of the Data"
   ]
  },
  {
   "cell_type": "code",
   "execution_count": 3,
   "id": "4be974c0",
   "metadata": {},
   "outputs": [
    {
     "name": "stdout",
     "output_type": "stream",
     "text": [
      " * sqlite:///chinook.db\n",
      "Done.\n"
     ]
    },
    {
     "data": {
      "text/html": [
       "<table>\n",
       "    <thead>\n",
       "        <tr>\n",
       "            <th>name</th>\n",
       "            <th>type</th>\n",
       "        </tr>\n",
       "    </thead>\n",
       "    <tbody>\n",
       "        <tr>\n",
       "            <td>album</td>\n",
       "            <td>table</td>\n",
       "        </tr>\n",
       "        <tr>\n",
       "            <td>artist</td>\n",
       "            <td>table</td>\n",
       "        </tr>\n",
       "        <tr>\n",
       "            <td>customer</td>\n",
       "            <td>table</td>\n",
       "        </tr>\n",
       "        <tr>\n",
       "            <td>employee</td>\n",
       "            <td>table</td>\n",
       "        </tr>\n",
       "        <tr>\n",
       "            <td>genre</td>\n",
       "            <td>table</td>\n",
       "        </tr>\n",
       "        <tr>\n",
       "            <td>invoice</td>\n",
       "            <td>table</td>\n",
       "        </tr>\n",
       "        <tr>\n",
       "            <td>invoice_line</td>\n",
       "            <td>table</td>\n",
       "        </tr>\n",
       "        <tr>\n",
       "            <td>media_type</td>\n",
       "            <td>table</td>\n",
       "        </tr>\n",
       "        <tr>\n",
       "            <td>playlist</td>\n",
       "            <td>table</td>\n",
       "        </tr>\n",
       "        <tr>\n",
       "            <td>playlist_track</td>\n",
       "            <td>table</td>\n",
       "        </tr>\n",
       "        <tr>\n",
       "            <td>track</td>\n",
       "            <td>table</td>\n",
       "        </tr>\n",
       "        <tr>\n",
       "            <td>countries</td>\n",
       "            <td>view</td>\n",
       "        </tr>\n",
       "        <tr>\n",
       "            <td>top_countries</td>\n",
       "            <td>view</td>\n",
       "        </tr>\n",
       "    </tbody>\n",
       "</table>"
      ],
      "text/plain": [
       "[('album', 'table'),\n",
       " ('artist', 'table'),\n",
       " ('customer', 'table'),\n",
       " ('employee', 'table'),\n",
       " ('genre', 'table'),\n",
       " ('invoice', 'table'),\n",
       " ('invoice_line', 'table'),\n",
       " ('media_type', 'table'),\n",
       " ('playlist', 'table'),\n",
       " ('playlist_track', 'table'),\n",
       " ('track', 'table'),\n",
       " ('countries', 'view'),\n",
       " ('top_countries', 'view')]"
      ]
     },
     "execution_count": 3,
     "metadata": {},
     "output_type": "execute_result"
    }
   ],
   "source": [
    "%%sql\n",
    "SELECT\n",
    "    name,\n",
    "    type\n",
    "FROM sqlite_master\n",
    "WHERE type IN (\"table\", \"view\");"
   ]
  },
  {
   "cell_type": "markdown",
   "id": "8ac7410a",
   "metadata": {},
   "source": [
    "## Selecting Albums to purchase"
   ]
  },
  {
   "cell_type": "markdown",
   "id": "e7354a7b",
   "metadata": {},
   "source": [
    "The record label specializes in artists from the USA, and they have given Chinook some money to advertise the new albums in the USA, so we're interested in finding out which genres sell the best in the USA, and then make a recommendation for the three artists (among below 4 artists) whose albums we should purchase for the Chinook record store.\n",
    "\n",
    "| Artist Name | Genre |\n",
    "| --- | --- |\n",
    "| Regal | Hip-Hop |\n",
    "| Red Tone | Punk |\n",
    "| Meteor and the Girls | Pop |\n",
    "| Slim Jim Bites | Blues |"
   ]
  },
  {
   "cell_type": "code",
   "execution_count": 4,
   "id": "8ab07206",
   "metadata": {},
   "outputs": [
    {
     "name": "stdout",
     "output_type": "stream",
     "text": [
      " * sqlite:///chinook.db\n",
      "Done.\n"
     ]
    },
    {
     "data": {
      "text/html": [
       "<table>\n",
       "    <thead>\n",
       "        <tr>\n",
       "            <th>genre</th>\n",
       "            <th>num_track</th>\n",
       "            <th>num_track_pc</th>\n",
       "        </tr>\n",
       "    </thead>\n",
       "    <tbody>\n",
       "        <tr>\n",
       "            <td>Rock</td>\n",
       "            <td>561</td>\n",
       "            <td>53.38</td>\n",
       "        </tr>\n",
       "        <tr>\n",
       "            <td>Alternative &amp; Punk</td>\n",
       "            <td>130</td>\n",
       "            <td>12.37</td>\n",
       "        </tr>\n",
       "        <tr>\n",
       "            <td>Metal</td>\n",
       "            <td>124</td>\n",
       "            <td>11.8</td>\n",
       "        </tr>\n",
       "        <tr>\n",
       "            <td>R&amp;B/Soul</td>\n",
       "            <td>53</td>\n",
       "            <td>5.04</td>\n",
       "        </tr>\n",
       "        <tr>\n",
       "            <td>Blues</td>\n",
       "            <td>36</td>\n",
       "            <td>3.43</td>\n",
       "        </tr>\n",
       "        <tr>\n",
       "            <td>Alternative</td>\n",
       "            <td>35</td>\n",
       "            <td>3.33</td>\n",
       "        </tr>\n",
       "        <tr>\n",
       "            <td>Latin</td>\n",
       "            <td>22</td>\n",
       "            <td>2.09</td>\n",
       "        </tr>\n",
       "        <tr>\n",
       "            <td>Pop</td>\n",
       "            <td>22</td>\n",
       "            <td>2.09</td>\n",
       "        </tr>\n",
       "        <tr>\n",
       "            <td>Hip Hop/Rap</td>\n",
       "            <td>20</td>\n",
       "            <td>1.9</td>\n",
       "        </tr>\n",
       "        <tr>\n",
       "            <td>Jazz</td>\n",
       "            <td>14</td>\n",
       "            <td>1.33</td>\n",
       "        </tr>\n",
       "    </tbody>\n",
       "</table>"
      ],
      "text/plain": [
       "[('Rock', 561, 53.38),\n",
       " ('Alternative & Punk', 130, 12.37),\n",
       " ('Metal', 124, 11.8),\n",
       " ('R&B/Soul', 53, 5.04),\n",
       " ('Blues', 36, 3.43),\n",
       " ('Alternative', 35, 3.33),\n",
       " ('Latin', 22, 2.09),\n",
       " ('Pop', 22, 2.09),\n",
       " ('Hip Hop/Rap', 20, 1.9),\n",
       " ('Jazz', 14, 1.33)]"
      ]
     },
     "execution_count": 4,
     "metadata": {},
     "output_type": "execute_result"
    }
   ],
   "source": [
    "%%sql\n",
    "\n",
    "WITH ta AS (\n",
    "SELECT g.name genre, COUNT(t.track_id) num_track\n",
    "FROM genre g\n",
    "LEFT JOIN track t ON g.genre_id = t.genre_id\n",
    "LEFT JOIN invoice_line il ON il.track_id = t.track_id\n",
    "LEFT JOIN invoice i ON i.invoice_id = il.invoice_id\n",
    "WHERE i.billing_country = \"USA\"\n",
    "GROUP BY 1),\n",
    "\n",
    "    pc AS (\n",
    "SELECT\n",
    "    genre, \n",
    "    num_track,\n",
    "    ROUND(CAST(num_track AS FLOAT) / (SELECT SUM(num_track) FROM ta) *100,2) num_track_pc\n",
    "FROM ta)\n",
    "\n",
    "SELECT *\n",
    "FROM pc\n",
    "ORDER BY 2 DESC\n",
    "LIMIT 10"
   ]
  },
  {
   "cell_type": "markdown",
   "id": "d7935802",
   "metadata": {},
   "source": [
    "With the above findings, we recommend choosing albums produced by the following three artists: Red Tone (Punk), Slim Jim Bites (Blues), and Meteor and the Girls (Pop)"
   ]
  },
  {
   "cell_type": "markdown",
   "id": "02ac24c8",
   "metadata": {},
   "source": [
    "## Analysing Employee Sales Performance"
   ]
  },
  {
   "cell_type": "markdown",
   "id": "00c48219",
   "metadata": {},
   "source": [
    "Each customer for the Chinook store gets assigned to a sales support agent within the company when they first make a purchase. We'll analyze the purchases of customers belonging to each employee to see if any sales support agent is performing either better or worse than the others.\n",
    "\n"
   ]
  },
  {
   "cell_type": "code",
   "execution_count": 5,
   "id": "17e9c9bd",
   "metadata": {},
   "outputs": [
    {
     "name": "stdout",
     "output_type": "stream",
     "text": [
      " * sqlite:///chinook.db\n",
      "Done.\n"
     ]
    },
    {
     "data": {
      "text/html": [
       "<table>\n",
       "    <thead>\n",
       "        <tr>\n",
       "            <th>employee_name</th>\n",
       "            <th>reports_to</th>\n",
       "            <th>birthdate</th>\n",
       "            <th>hire_date</th>\n",
       "            <th>age</th>\n",
       "            <th>total_sales</th>\n",
       "        </tr>\n",
       "    </thead>\n",
       "    <tbody>\n",
       "        <tr>\n",
       "            <td>Jane Peacock</td>\n",
       "            <td>2</td>\n",
       "            <td>1973-08-29 00:00:00</td>\n",
       "            <td>2017-04-01 00:00:00</td>\n",
       "            <td>44</td>\n",
       "            <td>1732.0</td>\n",
       "        </tr>\n",
       "        <tr>\n",
       "            <td>Margaret Park</td>\n",
       "            <td>2</td>\n",
       "            <td>1947-09-19 00:00:00</td>\n",
       "            <td>2017-05-03 00:00:00</td>\n",
       "            <td>70</td>\n",
       "            <td>1584.0</td>\n",
       "        </tr>\n",
       "        <tr>\n",
       "            <td>Steve Johnson</td>\n",
       "            <td>2</td>\n",
       "            <td>1965-03-03 00:00:00</td>\n",
       "            <td>2017-10-17 00:00:00</td>\n",
       "            <td>52</td>\n",
       "            <td>1394.0</td>\n",
       "        </tr>\n",
       "    </tbody>\n",
       "</table>"
      ],
      "text/plain": [
       "[('Jane Peacock', 2, '1973-08-29 00:00:00', '2017-04-01 00:00:00', 44, 1732.0),\n",
       " ('Margaret Park', 2, '1947-09-19 00:00:00', '2017-05-03 00:00:00', 70, 1584.0),\n",
       " ('Steve Johnson', 2, '1965-03-03 00:00:00', '2017-10-17 00:00:00', 52, 1394.0)]"
      ]
     },
     "execution_count": 5,
     "metadata": {},
     "output_type": "execute_result"
    }
   ],
   "source": [
    "%%sql\n",
    "SELECT e.first_name || \" \" || e.last_name employee_name, e.reports_to, e.birthdate, e.hire_date, (e.hire_date - e.birthdate) age, ROUND(SUM(i.total)) total_sales\n",
    "FROM employee e\n",
    "INNER JOIN customer c\n",
    "ON e.employee_id = c.support_rep_id\n",
    "LEFT JOIN invoice i\n",
    "ON c.customer_id = i.customer_id\n",
    "GROUP BY 1"
   ]
  },
  {
   "cell_type": "markdown",
   "id": "c0d5c197",
   "metadata": {},
   "source": [
    "With the above findings, we see that Jane Peacock is the employee performing better than other sales support agent. The age difference might be indicative of employee performance as Jane was the youngest among the three staff when they joined the company in the same year 2017."
   ]
  },
  {
   "cell_type": "markdown",
   "id": "5bc8beb1",
   "metadata": {},
   "source": [
    "## Analyzing Sales by Country"
   ]
  },
  {
   "cell_type": "markdown",
   "id": "dd3cd88b",
   "metadata": {},
   "source": [
    "Next, we'll analyze the sales data for customers from each different country. "
   ]
  },
  {
   "cell_type": "code",
   "execution_count": 6,
   "id": "85a52a41",
   "metadata": {},
   "outputs": [
    {
     "name": "stdout",
     "output_type": "stream",
     "text": [
      " * sqlite:///chinook.db\n",
      "Done.\n"
     ]
    },
    {
     "data": {
      "text/html": [
       "<table>\n",
       "    <thead>\n",
       "        <tr>\n",
       "            <th>country</th>\n",
       "            <th>customers</th>\n",
       "            <th>total_sales</th>\n",
       "            <th>avg_order</th>\n",
       "            <th>customer_lifetime_value</th>\n",
       "        </tr>\n",
       "    </thead>\n",
       "    <tbody>\n",
       "        <tr>\n",
       "            <td>USA</td>\n",
       "            <td>13</td>\n",
       "            <td>1040.49</td>\n",
       "            <td>7.94</td>\n",
       "            <td>80.04</td>\n",
       "        </tr>\n",
       "        <tr>\n",
       "            <td>Canada</td>\n",
       "            <td>8</td>\n",
       "            <td>535.59</td>\n",
       "            <td>7.05</td>\n",
       "            <td>66.95</td>\n",
       "        </tr>\n",
       "        <tr>\n",
       "            <td>Brazil</td>\n",
       "            <td>5</td>\n",
       "            <td>427.68</td>\n",
       "            <td>7.01</td>\n",
       "            <td>85.54</td>\n",
       "        </tr>\n",
       "        <tr>\n",
       "            <td>France</td>\n",
       "            <td>5</td>\n",
       "            <td>389.07</td>\n",
       "            <td>7.78</td>\n",
       "            <td>77.81</td>\n",
       "        </tr>\n",
       "        <tr>\n",
       "            <td>Germany</td>\n",
       "            <td>4</td>\n",
       "            <td>334.62</td>\n",
       "            <td>8.16</td>\n",
       "            <td>83.66</td>\n",
       "        </tr>\n",
       "        <tr>\n",
       "            <td>Czech Republic</td>\n",
       "            <td>2</td>\n",
       "            <td>273.24</td>\n",
       "            <td>9.11</td>\n",
       "            <td>136.62</td>\n",
       "        </tr>\n",
       "        <tr>\n",
       "            <td>United Kingdom</td>\n",
       "            <td>3</td>\n",
       "            <td>245.52</td>\n",
       "            <td>8.77</td>\n",
       "            <td>81.84</td>\n",
       "        </tr>\n",
       "        <tr>\n",
       "            <td>Portugal</td>\n",
       "            <td>2</td>\n",
       "            <td>185.13</td>\n",
       "            <td>6.38</td>\n",
       "            <td>92.57</td>\n",
       "        </tr>\n",
       "        <tr>\n",
       "            <td>India</td>\n",
       "            <td>2</td>\n",
       "            <td>183.15</td>\n",
       "            <td>8.72</td>\n",
       "            <td>91.57</td>\n",
       "        </tr>\n",
       "        <tr>\n",
       "            <td>Other</td>\n",
       "            <td>15</td>\n",
       "            <td>1094.94</td>\n",
       "            <td>7.45</td>\n",
       "            <td>73.0</td>\n",
       "        </tr>\n",
       "    </tbody>\n",
       "</table>"
      ],
      "text/plain": [
       "[('USA', 13, 1040.49, 7.94, 80.04),\n",
       " ('Canada', 8, 535.59, 7.05, 66.95),\n",
       " ('Brazil', 5, 427.68, 7.01, 85.54),\n",
       " ('France', 5, 389.07, 7.78, 77.81),\n",
       " ('Germany', 4, 334.62, 8.16, 83.66),\n",
       " ('Czech Republic', 2, 273.24, 9.11, 136.62),\n",
       " ('United Kingdom', 3, 245.52, 8.77, 81.84),\n",
       " ('Portugal', 2, 185.13, 6.38, 92.57),\n",
       " ('India', 2, 183.15, 8.72, 91.57),\n",
       " ('Other', 15, 1094.94, 7.45, 73.0)]"
      ]
     },
     "execution_count": 6,
     "metadata": {},
     "output_type": "execute_result"
    }
   ],
   "source": [
    "%%sql\n",
    "\n",
    "WITH t3 AS (select c.country sort, \n",
    "COUNT(distinct c.customer_id) customers, \n",
    "SUM(i.total) sales, \n",
    "COUNT(DISTINCT i.invoice_id) num_inv\n",
    "from customer c\n",
    "LEFT JOIN invoice i\n",
    "ON c.customer_id = i.customer_id\n",
    "group by 1\n",
    "order by 2 DESC),\n",
    "\n",
    "\n",
    "t4 AS (SELECT \n",
    "CASE WHEN t3.customers = 1 THEN 'Other'\n",
    "ELSE t3.sort\n",
    "END AS country,\n",
    "t3.customers,\n",
    "t3.sales,\n",
    "t3.num_inv\n",
    "from t3),\n",
    "\n",
    "t5 AS (SELECT t4.country country, SUM(t4.customers) customers, \n",
    "ROUND(SUM(t4.sales),2) total_sales,\n",
    "ROUND(SUM(t4.sales) / SUM(t4.num_inv),2) avg_order,\n",
    "ROUND(SUM(t4.sales) / SUM(t4.customers),2) customer_lifetime_value,\n",
    "CASE WHEN t4.country = 'Other' THEN 1\n",
    "ELSE 0\n",
    "END AS count\n",
    "from t4\n",
    "group by 1)\n",
    "\n",
    "SELECT country, \n",
    "    customers,\n",
    "    total_sales,\n",
    "    avg_order, \n",
    "    customer_lifetime_value\n",
    "FROM t5\n",
    "ORDER BY count ASC, total_sales DESC"
   ]
  },
  {
   "cell_type": "markdown",
   "id": "505e1e8b",
   "metadata": {},
   "source": [
    "## Album vs Individual Tracks"
   ]
  },
  {
   "cell_type": "code",
   "execution_count": 39,
   "id": "e66cb8d2",
   "metadata": {},
   "outputs": [
    {
     "name": "stdout",
     "output_type": "stream",
     "text": [
      " * sqlite:///chinook.db\n",
      "Done.\n"
     ]
    },
    {
     "data": {
      "text/html": [
       "<table>\n",
       "    <thead>\n",
       "        <tr>\n",
       "            <th>album_purchase</th>\n",
       "            <th>number_of_invoices</th>\n",
       "            <th>percentage_of_invoices</th>\n",
       "        </tr>\n",
       "    </thead>\n",
       "    <tbody>\n",
       "        <tr>\n",
       "            <td>no</td>\n",
       "            <td>500</td>\n",
       "            <td>0.8143322475570033</td>\n",
       "        </tr>\n",
       "        <tr>\n",
       "            <td>yes</td>\n",
       "            <td>114</td>\n",
       "            <td>0.18566775244299674</td>\n",
       "        </tr>\n",
       "    </tbody>\n",
       "</table>"
      ],
      "text/plain": [
       "[('no', 500, 0.8143322475570033), ('yes', 114, 0.18566775244299674)]"
      ]
     },
     "execution_count": 39,
     "metadata": {},
     "output_type": "execute_result"
    }
   ],
   "source": [
    "%%sql\n",
    "\n",
    "WITH t1 AS (\n",
    "SELECT invoice_id, MIN(track_id) first_track\n",
    "FROM invoice_line\n",
    "GROUP BY invoice_id\n",
    "),    \n",
    "\n",
    "t2 AS (\n",
    "\n",
    "SELECT t1.*,\n",
    "\n",
    "CASE \n",
    "    WHEN \n",
    "        (\n",
    "        SELECT t.track_id FROM track t\n",
    "        WHERE t.album_id = (\n",
    "                            SELECT album_id FROM track\n",
    "                            WHERE track_id = t1.first_track\n",
    "                            )\n",
    "                            \n",
    "\n",
    "        EXCEPT\n",
    "        \n",
    "        SELECT il.track_id FROM invoice_line il\n",
    "        WHERE il.invoice_id = t1.invoice_id\n",
    "        ) IS NULL\n",
    "        \n",
    "        AND \n",
    "        \n",
    "        (\n",
    "        SELECT track_id FROM invoice_line il\n",
    "        WHERE invoice_id = t1.invoice_id\n",
    "        \n",
    "        EXCEPT\n",
    "        \n",
    "        SELECT track_id FROM track t\n",
    "        WHERE album_id = (SELECT album_id\n",
    "                            FROM track\n",
    "                           WHERE track_id = t1.first_track)    \n",
    "        ) IS NULL\n",
    "        \n",
    "        THEN \"yes\"\n",
    "        ELSE \"no\"\n",
    "    END AS \"album_purchase\"\n",
    "FROM t1\n",
    ")\n",
    "\n",
    "SELECT album_purchase,\n",
    "       COUNT(album_purchase) number_of_invoices,\n",
    "       CAST(COUNT(album_purchase) AS FLOAT) / (SELECT COUNT(*) FROM invoice) percentage_of_invoices\n",
    "FROM t2\n",
    "GROUP BY album_purchase\n"
   ]
  },
  {
   "cell_type": "markdown",
   "id": "b5bc2c3c",
   "metadata": {},
   "source": [
    "From the result, it's clear that the number of single track purchases outweight album purchases (Album purchases account for only 18.6% of purchases). Thus, the Chinook store should not continue to buy full albums from record companies.  "
   ]
  }
 ],
 "metadata": {
  "kernelspec": {
   "display_name": "Python 3",
   "language": "python",
   "name": "python3"
  },
  "language_info": {
   "codemirror_mode": {
    "name": "ipython",
    "version": 3
   },
   "file_extension": ".py",
   "mimetype": "text/x-python",
   "name": "python",
   "nbconvert_exporter": "python",
   "pygments_lexer": "ipython3",
   "version": "3.8.8"
  }
 },
 "nbformat": 4,
 "nbformat_minor": 5
}
