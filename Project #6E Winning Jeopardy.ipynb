{
 "cells": [
  {
   "cell_type": "markdown",
   "id": "c451cb07",
   "metadata": {},
   "source": [
    "# Guided Project: Winning Jeopardy"
   ]
  },
  {
   "cell_type": "markdown",
   "id": "185346ec",
   "metadata": {},
   "source": [
    "## Introduction"
   ]
  },
  {
   "cell_type": "markdown",
   "id": "7027c092",
   "metadata": {},
   "source": [
    "In this project, we'll be looking at a dataset of Jeopardy's (a popular TV show in the US where participants answer questions to win money) questions to figure out some patterns in the questions that could help with winning."
   ]
  },
  {
   "cell_type": "markdown",
   "id": "ab9089f6",
   "metadata": {},
   "source": [
    "## Exploring the dataset"
   ]
  },
  {
   "cell_type": "code",
   "execution_count": 1,
   "id": "18a1d4f7",
   "metadata": {},
   "outputs": [
    {
     "data": {
      "text/html": [
       "<div>\n",
       "<style scoped>\n",
       "    .dataframe tbody tr th:only-of-type {\n",
       "        vertical-align: middle;\n",
       "    }\n",
       "\n",
       "    .dataframe tbody tr th {\n",
       "        vertical-align: top;\n",
       "    }\n",
       "\n",
       "    .dataframe thead th {\n",
       "        text-align: right;\n",
       "    }\n",
       "</style>\n",
       "<table border=\"1\" class=\"dataframe\">\n",
       "  <thead>\n",
       "    <tr style=\"text-align: right;\">\n",
       "      <th></th>\n",
       "      <th>Show Number</th>\n",
       "      <th>Air Date</th>\n",
       "      <th>Round</th>\n",
       "      <th>Category</th>\n",
       "      <th>Value</th>\n",
       "      <th>Question</th>\n",
       "      <th>Answer</th>\n",
       "    </tr>\n",
       "  </thead>\n",
       "  <tbody>\n",
       "    <tr>\n",
       "      <th>0</th>\n",
       "      <td>4680</td>\n",
       "      <td>2004-12-31</td>\n",
       "      <td>Jeopardy!</td>\n",
       "      <td>HISTORY</td>\n",
       "      <td>$200</td>\n",
       "      <td>For the last 8 years of his life, Galileo was ...</td>\n",
       "      <td>Copernicus</td>\n",
       "    </tr>\n",
       "    <tr>\n",
       "      <th>1</th>\n",
       "      <td>4680</td>\n",
       "      <td>2004-12-31</td>\n",
       "      <td>Jeopardy!</td>\n",
       "      <td>ESPN's TOP 10 ALL-TIME ATHLETES</td>\n",
       "      <td>$200</td>\n",
       "      <td>No. 2: 1912 Olympian; football star at Carlisl...</td>\n",
       "      <td>Jim Thorpe</td>\n",
       "    </tr>\n",
       "    <tr>\n",
       "      <th>2</th>\n",
       "      <td>4680</td>\n",
       "      <td>2004-12-31</td>\n",
       "      <td>Jeopardy!</td>\n",
       "      <td>EVERYBODY TALKS ABOUT IT...</td>\n",
       "      <td>$200</td>\n",
       "      <td>The city of Yuma in this state has a record av...</td>\n",
       "      <td>Arizona</td>\n",
       "    </tr>\n",
       "    <tr>\n",
       "      <th>3</th>\n",
       "      <td>4680</td>\n",
       "      <td>2004-12-31</td>\n",
       "      <td>Jeopardy!</td>\n",
       "      <td>THE COMPANY LINE</td>\n",
       "      <td>$200</td>\n",
       "      <td>In 1963, live on \"The Art Linkletter Show\", th...</td>\n",
       "      <td>McDonald's</td>\n",
       "    </tr>\n",
       "    <tr>\n",
       "      <th>4</th>\n",
       "      <td>4680</td>\n",
       "      <td>2004-12-31</td>\n",
       "      <td>Jeopardy!</td>\n",
       "      <td>EPITAPHS &amp; TRIBUTES</td>\n",
       "      <td>$200</td>\n",
       "      <td>Signer of the Dec. of Indep., framer of the Co...</td>\n",
       "      <td>John Adams</td>\n",
       "    </tr>\n",
       "  </tbody>\n",
       "</table>\n",
       "</div>"
      ],
      "text/plain": [
       "   Show Number    Air Date      Round                         Category  Value  \\\n",
       "0         4680  2004-12-31  Jeopardy!                          HISTORY   $200   \n",
       "1         4680  2004-12-31  Jeopardy!  ESPN's TOP 10 ALL-TIME ATHLETES   $200   \n",
       "2         4680  2004-12-31  Jeopardy!      EVERYBODY TALKS ABOUT IT...   $200   \n",
       "3         4680  2004-12-31  Jeopardy!                 THE COMPANY LINE   $200   \n",
       "4         4680  2004-12-31  Jeopardy!              EPITAPHS & TRIBUTES   $200   \n",
       "\n",
       "                                            Question      Answer  \n",
       "0  For the last 8 years of his life, Galileo was ...  Copernicus  \n",
       "1  No. 2: 1912 Olympian; football star at Carlisl...  Jim Thorpe  \n",
       "2  The city of Yuma in this state has a record av...     Arizona  \n",
       "3  In 1963, live on \"The Art Linkletter Show\", th...  McDonald's  \n",
       "4  Signer of the Dec. of Indep., framer of the Co...  John Adams  "
      ]
     },
     "execution_count": 1,
     "metadata": {},
     "output_type": "execute_result"
    }
   ],
   "source": [
    "# Read in the dataframe\n",
    "import pandas as pd\n",
    "jeopardy = pd.read_csv(\"jeopardy.csv\")\n",
    "jeopardy.head()"
   ]
  },
  {
   "cell_type": "code",
   "execution_count": 2,
   "id": "2b482ddc",
   "metadata": {},
   "outputs": [
    {
     "data": {
      "text/plain": [
       "Index(['Show Number', ' Air Date', ' Round', ' Category', ' Value',\n",
       "       ' Question', ' Answer'],\n",
       "      dtype='object')"
      ]
     },
     "execution_count": 2,
     "metadata": {},
     "output_type": "execute_result"
    }
   ],
   "source": [
    "# Print out the columns\n",
    "jeopardy.columns"
   ]
  },
  {
   "cell_type": "code",
   "execution_count": 3,
   "id": "03f19034",
   "metadata": {},
   "outputs": [
    {
     "data": {
      "text/plain": [
       "Index(['Show Number', 'Air Date', 'Round', 'Category', 'Value', 'Question',\n",
       "       'Answer'],\n",
       "      dtype='object')"
      ]
     },
     "execution_count": 3,
     "metadata": {},
     "output_type": "execute_result"
    }
   ],
   "source": [
    "# Remove spaces from column names\n",
    "jeopardy.columns = jeopardy.columns.str.lstrip(\" \")\n",
    "jeopardy.columns"
   ]
  },
  {
   "cell_type": "markdown",
   "id": "8cbe3c02",
   "metadata": {},
   "source": [
    "## Normalizing Text"
   ]
  },
  {
   "cell_type": "code",
   "execution_count": 4,
   "id": "e5f9bb8d",
   "metadata": {},
   "outputs": [],
   "source": [
    "# Function to normalize all text columns\n",
    "import re\n",
    "def normalize(string):\n",
    "    string = string.lower()\n",
    "    string = re.sub(r'[^\\w\\s]', '', string)\n",
    "    return string"
   ]
  },
  {
   "cell_type": "code",
   "execution_count": 5,
   "id": "1f4c2224",
   "metadata": {},
   "outputs": [
    {
     "name": "stdout",
     "output_type": "stream",
     "text": [
      "0        for the last 8 years of his life galileo was u...\n",
      "1        no 2 1912 olympian football star at carlisle i...\n",
      "2        the city of yuma in this state has a record av...\n",
      "3        in 1963 live on the art linkletter show this c...\n",
      "4        signer of the dec of indep framer of the const...\n",
      "                               ...                        \n",
      "19994    of 8 12 or 18 the number of us states that tou...\n",
      "19995                             the new power generation\n",
      "19996    in 1589 he was appointed professor of mathemat...\n",
      "19997    before the grand jury she said im really sorry...\n",
      "19998    llamas are the heftiest south american members...\n",
      "Name: clean_question, Length: 19999, dtype: object\n",
      "\n",
      "\n",
      "0             copernicus\n",
      "1             jim thorpe\n",
      "2                arizona\n",
      "3              mcdonalds\n",
      "4             john adams\n",
      "              ...       \n",
      "19994                 18\n",
      "19995             prince\n",
      "19996            galileo\n",
      "19997    monica lewinsky\n",
      "19998             camels\n",
      "Name: clean_answer, Length: 19999, dtype: object\n"
     ]
    }
   ],
   "source": [
    "# Normalize the Question column\n",
    "jeopardy[\"clean_question\"] = jeopardy[\"Question\"].apply(normalize)\n",
    "jeopardy[\"clean_answer\"] = jeopardy[\"Answer\"].apply(normalize)\n",
    "\n",
    "print(jeopardy[\"clean_question\"])\n",
    "print('\\n')\n",
    "print(jeopardy[\"clean_answer\"])"
   ]
  },
  {
   "cell_type": "markdown",
   "id": "03507f05",
   "metadata": {},
   "source": [
    "## Normalizing Columns"
   ]
  },
  {
   "cell_type": "code",
   "execution_count": 6,
   "id": "91cb2ffb",
   "metadata": {},
   "outputs": [
    {
     "data": {
      "text/plain": [
       "0        200\n",
       "1        200\n",
       "2        200\n",
       "3        200\n",
       "4        200\n",
       "        ... \n",
       "19994    200\n",
       "19995    200\n",
       "19996    200\n",
       "19997    200\n",
       "19998    200\n",
       "Name: clean_value, Length: 19999, dtype: int64"
      ]
     },
     "execution_count": 6,
     "metadata": {},
     "output_type": "execute_result"
    }
   ],
   "source": [
    "# Function to normalize dollar values\n",
    "def normalize_dollar(string):\n",
    "    string = re.sub(r'[^\\w\\s]', '', string)\n",
    "    if string == 'None':\n",
    "        integer = 0\n",
    "    else:\n",
    "        integer = int(string)\n",
    "    return integer\n",
    "\n",
    "# Normalize the Value column\n",
    "jeopardy[\"clean_value\"] = jeopardy[\"Value\"].apply(normalize_dollar)\n",
    "jeopardy[\"clean_value\"]"
   ]
  },
  {
   "cell_type": "code",
   "execution_count": 7,
   "id": "c8f97937",
   "metadata": {},
   "outputs": [],
   "source": [
    "# Convert Air Date column to a datetime column\n",
    "jeopardy[\"Air Date\"] = pd.to_datetime(jeopardy[\"Air Date\"]) "
   ]
  },
  {
   "cell_type": "code",
   "execution_count": 8,
   "id": "38fd02a1",
   "metadata": {},
   "outputs": [
    {
     "data": {
      "text/plain": [
       "Show Number                int64\n",
       "Air Date          datetime64[ns]\n",
       "Round                     object\n",
       "Category                  object\n",
       "Value                     object\n",
       "Question                  object\n",
       "Answer                    object\n",
       "clean_question            object\n",
       "clean_answer              object\n",
       "clean_value                int64\n",
       "dtype: object"
      ]
     },
     "execution_count": 8,
     "metadata": {},
     "output_type": "execute_result"
    }
   ],
   "source": [
    "jeopardy.dtypes"
   ]
  },
  {
   "cell_type": "markdown",
   "id": "bdd68244",
   "metadata": {},
   "source": [
    "## Answers in Questions"
   ]
  },
  {
   "cell_type": "markdown",
   "id": "4032b9e0",
   "metadata": {},
   "source": [
    "In order to figure out whether to study past questions, study general knowledge, or not study it all, it would be helpful to figure out two things:\n",
    "\n",
    "- How often the answer can be used for a question.\n",
    "- How often questions are repeated."
   ]
  },
  {
   "cell_type": "code",
   "execution_count": 9,
   "id": "c39ada14",
   "metadata": {},
   "outputs": [],
   "source": [
    "def answer_question(row):\n",
    "    split_answer = row[\"clean_answer\"].split()\n",
    "    split_question = row[\"clean_question\"].split()\n",
    "    match_count = 0\n",
    "\n",
    "    # Remove 'the' from the answers\n",
    "    if \"the\" in split_answer:\n",
    "        split_answer.remove(\"the\")\n",
    "    if len(split_answer) == 0:\n",
    "        return 0\n",
    "    for item in split_answer:\n",
    "        if item in split_question:\n",
    "            match_count += 1\n",
    "    return match_count / len(split_answer)"
   ]
  },
  {
   "cell_type": "code",
   "execution_count": 10,
   "id": "3d80216e",
   "metadata": {},
   "outputs": [
    {
     "data": {
      "text/plain": [
       "0.059001965249777744"
      ]
     },
     "execution_count": 10,
     "metadata": {},
     "output_type": "execute_result"
    }
   ],
   "source": [
    "jeopardy[\"answer_in_question\"] = jeopardy.apply(answer_question, axis=1)\n",
    "jeopardy[\"answer_in_question\"].mean()"
   ]
  },
  {
   "cell_type": "markdown",
   "id": "75d87fe7",
   "metadata": {},
   "source": [
    "## Recyled Questions"
   ]
  },
  {
   "cell_type": "markdown",
   "id": "eeb2dcdc",
   "metadata": {},
   "source": [
    "New questions can be repeats of older ones. Though we can't fully answer this question as we have only about 10% of the full Jeopardy question dataset, we can at least investigate this by checking if the terms of more than 6 or more characters have been previously used or not."
   ]
  },
  {
   "cell_type": "code",
   "execution_count": 11,
   "id": "75d43fa4",
   "metadata": {},
   "outputs": [],
   "source": [
    "# Create an empty list\n",
    "question_overlap = []\n",
    "\n",
    "# Create an empty set\n",
    "terms_used = set()\n",
    "\n",
    "# Sort jeopardy by ascending air date\n",
    "jeopardy = jeopardy.sort_values(\"Air Date\")"
   ]
  },
  {
   "cell_type": "code",
   "execution_count": 12,
   "id": "0f38a626",
   "metadata": {},
   "outputs": [
    {
     "data": {
      "text/plain": [
       "0.6876235590919714"
      ]
     },
     "execution_count": 12,
     "metadata": {},
     "output_type": "execute_result"
    }
   ],
   "source": [
    "# Loop through each row of jeopardy\n",
    "for i, row in jeopardy.iterrows():\n",
    "        # Split clean_question into words\n",
    "        split_question = row[\"clean_question\"].split(\" \")\n",
    "        # Remove any word shorter than 6 characters\n",
    "        split_question = [q for q in split_question if len(q) > 5]\n",
    "        match_count = 0\n",
    "        # Check if each word occurs in terms_used\n",
    "        for word in split_question:\n",
    "            if word in terms_used:\n",
    "                match_count += 1\n",
    "        for word in split_question:\n",
    "            terms_used.add(word)\n",
    "        if len(split_question) > 0:\n",
    "            match_count /= len(split_question)\n",
    "        question_overlap.append(match_count)\n",
    "jeopardy[\"question_overlap\"] = question_overlap\n",
    "\n",
    "jeopardy[\"question_overlap\"].mean()"
   ]
  },
  {
   "cell_type": "code",
   "execution_count": 14,
   "id": "7ec7c8db",
   "metadata": {},
   "outputs": [
    {
     "data": {
      "text/plain": [
       "<matplotlib.lines.Line2D at 0x22229bb88e0>"
      ]
     },
     "execution_count": 14,
     "metadata": {},
     "output_type": "execute_result"
    },
    {
     "data": {
      "image/png": "[encoded data removed]",
      "text/plain": [
       "<Figure size 432x288 with 1 Axes>"
      ]
     },
     "metadata": {
      "needs_background": "light"
     },
     "output_type": "display_data"
    }
   ],
   "source": [
    "import matplotlib.pyplot as plt\n",
    "plt.hist(jeopardy[\"question_overlap\"])\n",
    "plt.axvline(jeopardy[\"question_overlap\"].mean())"
   ]
  },
  {
   "cell_type": "code",
   "execution_count": 16,
   "id": "de5275ab",
   "metadata": {},
   "outputs": [
    {
     "data": {
      "text/plain": [
       "count    19999.000000\n",
       "mean         0.687624\n",
       "std          0.299120\n",
       "min          0.000000\n",
       "25%          0.500000\n",
       "50%          0.750000\n",
       "75%          1.000000\n",
       "max          1.000000\n",
       "Name: question_overlap, dtype: float64"
      ]
     },
     "execution_count": 16,
     "metadata": {},
     "output_type": "execute_result"
    }
   ],
   "source": [
    "jeopardy[\"question_overlap\"].describe()"
   ]
  },
  {
   "cell_type": "markdown",
   "id": "b1076d7e",
   "metadata": {},
   "source": [
    "## Low Value vs High Value Questions"
   ]
  },
  {
   "cell_type": "markdown",
   "id": "6784f26b",
   "metadata": {},
   "source": [
    "We will look at high value questions because they help the participants earn more money.The questions can be broken down into two categories:\n",
    "- Low value -- Any row where Value is less than 800.\n",
    "- High value -- Any row where Value is greater than 800."
   ]
  },
  {
   "cell_type": "code",
   "execution_count": 18,
   "id": "44cd25e9",
   "metadata": {},
   "outputs": [],
   "source": [
    "# Function that categorise value to low vs high\n",
    "def low_high(row):\n",
    "    if row[\"clean_value\"] > 800:\n",
    "        value = 1\n",
    "    else:\n",
    "        value = 0\n",
    "    return value"
   ]
  },
  {
   "cell_type": "code",
   "execution_count": 20,
   "id": "69fed99d",
   "metadata": {},
   "outputs": [],
   "source": [
    "# Apply the function to each row \n",
    "jeopardy[\"high_value\"] = jeopardy.apply(low_high, axis=1)"
   ]
  },
  {
   "cell_type": "code",
   "execution_count": 24,
   "id": "f122a590",
   "metadata": {},
   "outputs": [],
   "source": [
    "# Function that calculate high_count and low_count\n",
    "def word_count(word):\n",
    "    low_count = 0\n",
    "    high_count = 0\n",
    "    # Loop through each row in jeopardy\n",
    "    for i, row in jeopardy.iterrows():\n",
    "        split_question = row[\"clean_question\"].split(\" \")\n",
    "        if word in split_question:\n",
    "            if row[\"high_value\"] == 1:\n",
    "                high_count +=1\n",
    "            else:\n",
    "                low_count += 1\n",
    "    return high_count, low_count"
   ]
  },
  {
   "cell_type": "code",
   "execution_count": 38,
   "id": "569662a4",
   "metadata": {},
   "outputs": [],
   "source": [
    "# Randomly pick ten elements of terms_used\n",
    "from random import choice\n",
    "\n",
    "terms_used_list = list(terms_used)\n",
    "comparison_terms = [choice(terms_used_list) for _ in range(10)]\n",
    "\n",
    "# Create an empty list\n",
    "observed_expected = []\n",
    "\n",
    "# Loop through each term in comparison_terms\n",
    "for i in comparison_terms:\n",
    "    observed_expected.append(word_count(i))"
   ]
  },
  {
   "cell_type": "code",
   "execution_count": 39,
   "id": "8c45acff",
   "metadata": {},
   "outputs": [
    {
     "name": "stdout",
     "output_type": "stream",
     "text": [
      "['fairfield', 'floored', 'delicate', '199091', 'churchills', 'linebackers', 'furnace', 'kontiki', 'tunneling', 'showing']\n",
      "[(1, 0), (0, 1), (0, 4), (0, 1), (0, 1), (0, 2), (0, 1), (1, 0), (0, 1), (5, 2)]\n"
     ]
    }
   ],
   "source": [
    "print(comparison_terms)\n",
    "print(observed_expected)"
   ]
  },
  {
   "cell_type": "markdown",
   "id": "652c2f2b",
   "metadata": {},
   "source": [
    "## Applying the Chi-squared Test"
   ]
  },
  {
   "cell_type": "code",
   "execution_count": 48,
   "id": "5c298858",
   "metadata": {},
   "outputs": [],
   "source": [
    "high_value_count = jeopardy[jeopardy[\"high_value\"] == 1][\"high_value\"].count()\n",
    "\n",
    "low_value_count = jeopardy[jeopardy[\"high_value\"] == 0].shape[0]"
   ]
  },
  {
   "cell_type": "code",
   "execution_count": 53,
   "id": "976b304e",
   "metadata": {},
   "outputs": [
    {
     "data": {
      "text/plain": [
       "tuple"
      ]
     },
     "execution_count": 53,
     "metadata": {},
     "output_type": "execute_result"
    }
   ],
   "source": [
    "type(observed_expected[0])"
   ]
  },
  {
   "cell_type": "code",
   "execution_count": 64,
   "id": "0c1b6a17",
   "metadata": {},
   "outputs": [],
   "source": [
    "import numpy as np\n",
    "from scipy.stats import chisquare\n",
    "\n",
    "# Create an empty list\n",
    "chi_squared = []\n",
    "p_values = []\n",
    "\n",
    "# Loop through each list in observed_expected\n",
    "for i in observed_expected:\n",
    "    # Total of high and low counts\n",
    "    total = i[0] + i[1]\n",
    "    # Total proportion of total counts across the dataset\n",
    "    total_prop = total / jeopardy.shape[0]\n",
    "    \n",
    "    expected_high_value_count = total_prop * high_value_count\n",
    "    expected_low_value_count = total_prop * low_value_count\n",
    "\n",
    "    observed = np.array([i[0], i[1]])\n",
    "    expected = np.array([expected_high_value_count, expected_low_value_count])\n",
    "    chisquare_value, pvalue = chisquare(observed, expected)\n",
    "    chi_squared.append(chisquare_value)\n",
    "    p_values.append(pvalue)"
   ]
  },
  {
   "cell_type": "code",
   "execution_count": 63,
   "id": "f2fd3cfc",
   "metadata": {},
   "outputs": [
    {
     "data": {
      "text/plain": [
       "[2.487792117195675,\n",
       " 0.401962846126884,\n",
       " 1.607851384507536,\n",
       " 0.401962846126884,\n",
       " 0.401962846126884,\n",
       " 0.803925692253768,\n",
       " 0.401962846126884,\n",
       " 2.487792117195675,\n",
       " 0.401962846126884,\n",
       " 6.2575220449142]"
      ]
     },
     "execution_count": 63,
     "metadata": {},
     "output_type": "execute_result"
    }
   ],
   "source": [
    "chi_squared"
   ]
  },
  {
   "cell_type": "code",
   "execution_count": 65,
   "id": "aece012e",
   "metadata": {},
   "outputs": [
    {
     "data": {
      "text/plain": [
       "[0.11473257634454047,\n",
       " 0.5260772985705469,\n",
       " 0.2047940943922556,\n",
       " 0.5260772985705469,\n",
       " 0.5260772985705469,\n",
       " 0.3699222378079571,\n",
       " 0.5260772985705469,\n",
       " 0.11473257634454047,\n",
       " 0.5260772985705469,\n",
       " 0.012366706058156086]"
      ]
     },
     "execution_count": 65,
     "metadata": {},
     "output_type": "execute_result"
    }
   ],
   "source": [
    "p_values"
   ]
  },
  {
   "cell_type": "markdown",
   "id": "c4b87c3d",
   "metadata": {},
   "source": [
    "## Conclusion"
   ]
  },
  {
   "cell_type": "markdown",
   "id": "eb695f15",
   "metadata": {},
   "source": [
    "As most p_values are larger than 0.05 (the typical threshold for statistical significance), we can conclude that the results are not statistically significant, meaning none of the terms had a significant difference in usage between high value and low value questions."
   ]
  }
 ],
 "metadata": {
  "kernelspec": {
   "display_name": "Python 3",
   "language": "python",
   "name": "python3"
  },
  "language_info": {
   "codemirror_mode": {
    "name": "ipython",
    "version": 3
   },
   "file_extension": ".py",
   "mimetype": "text/x-python",
   "name": "python",
   "nbconvert_exporter": "python",
   "pygments_lexer": "ipython3",
   "version": "3.8.8"
  }
 },
 "nbformat": 4,
 "nbformat_minor": 5
}
